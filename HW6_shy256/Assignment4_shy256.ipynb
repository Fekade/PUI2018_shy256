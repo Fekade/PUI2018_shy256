{
 "cells": [
  {
   "cell_type": "markdown",
   "metadata": {
    "run_control": {
     "frozen": false,
     "read_only": false
    }
   },
   "source": [
    "# Skeleton of Assignment 4:\n",
    "    test if the distribution of \n",
    "    \n",
    "    1) trip duration of bikers that ride during the day vs night\n",
    "    \n",
    "    2) age of bikers for trips originating in Manhattan and in Brooklyn (extra credit)\n",
    "    \n",
    "    are different. Use 3 tests: KS, Pearson's, Spearman's. \n",
    "    \n",
    "    Use the scipy.stats functions scipy.stats.ks_2samp, scipy.stats.pearsonr, scipy.stats.spearmanr. \n",
    "    \n",
    "    For the KS do the test with the entire dataset and with a subset 200 times smaller\n",
    "    \n",
    "    Choose a single significant threshold for the whole exercise. \n",
    "    \n",
    "    For each test phrase the Null Hypothesis in words.\n",
    "    \n",
    "    Describe the return of the scipy function you use in each case.\n",
    "    \n",
    "    State the result in terms of rejection of the Null."
   ]
  },
  {
   "cell_type": "code",
   "execution_count": 28,
   "metadata": {},
   "outputs": [],
   "source": [
    "from __future__ import print_function\n",
    "__author__ = \"Sung Hoon Yang, CUSP NYU 2018\"\n",
    "import numpy as np\n",
    "import pandas as pd\n",
    "import matplotlib\n",
    "font = {'family' : 'normal',\n",
    "        'weight' : 'bold',\n",
    "        'size'   : 88}\n",
    "\n",
    "matplotlib.rc('font', **font)\n",
    "import matplotlib.pyplot as plt\n",
    "import pylab as pl\n",
    "import seaborn as sns\n",
    "import os\n",
    "%matplotlib inline\n",
    "np.random.seed(999)\n",
    "import warnings\n",
    "warnings.filterwarnings(action='once')\n",
    "\n",
    "\"\"\"\n",
    "Set up PUIDATA env var\n",
    "\"\"\"\n",
    "import os\n",
    "os.environ[\"PUIDATA\"] = \"%s/fall18/PUI/PUIDATA\"% os.getenv(\"HOME\")\n",
    "os.environ[\"PUI2018\"] = \"%s/fall18/PUI/PUI2018\"% os.getenv(\"HOME\")\n",
    "\n",
    "\"\"\"\n",
    "Needed for the notebook\n",
    "\"\"\"\n",
    "import re\n",
    "from datetime import datetime\n",
    "from copy import deepcopy"
   ]
  },
  {
   "cell_type": "code",
   "execution_count": 29,
   "metadata": {
    "ExecuteTime": {
     "end_time": "2017-10-05T16:48:06.390950",
     "start_time": "2017-10-05T16:48:04.815178"
    },
    "run_control": {
     "frozen": false,
     "read_only": false
    },
    "scrolled": true
   },
   "outputs": [],
   "source": [
    "# my usual imports and setups\n",
    "from getCitiBikeCSV import getCitiBikeCSV\n",
    "#this makes my plots pretty! but it is totally not mandatory to do it\n",
    "import json\n",
    "#s = json.load(open(os.getenv('PUI2018')+\"/fbb_matplotlibrc.json\") )\n",
    "#pl.rcParams.update(s)\n",
    "\n"
   ]
  },
  {
   "cell_type": "markdown",
   "metadata": {
    "run_control": {
     "frozen": false,
     "read_only": false
    }
   },
   "source": [
    "# Read in data\n",
    "I am reading in data from January 2015 with the function that I created getCitiBikeCSV. You are requested to use 2 months at least. It would be a good idea to use data from a colder and a warmer months, since there are more riders in the warm weather and ridership patterns may change with weather, temperature, etc. You should use data from multiple months, joining multiple datasets (thus addressing some systematic errors as well)"
   ]
  },
  {
   "cell_type": "code",
   "execution_count": 30,
   "metadata": {
    "ExecuteTime": {
     "end_time": "2017-10-05T16:48:09.386484",
     "start_time": "2017-10-05T16:48:06.821336"
    },
    "run_control": {
     "frozen": false,
     "read_only": false
    }
   },
   "outputs": [
    {
     "name": "stdout",
     "output_type": "stream",
     "text": [
      "Downloading 201512\n",
      "file in place, you can continue\n",
      "Downloading 201507\n",
      "file in place, you can continue\n"
     ]
    }
   ],
   "source": [
    "import sys\n",
    "sys.path.insert(0, '/nfshome/shy256/fall18/PUI/PUI2018/util/')\n",
    "from evalChisq import evalChisq\n",
    "datestrings = ['201512', '201507']\n",
    "for d in datestrings:\n",
    "    getCitiBikeCSV(d)"
   ]
  },
  {
   "cell_type": "code",
   "execution_count": 31,
   "metadata": {
    "ExecuteTime": {
     "end_time": "2017-10-05T16:48:11.528975",
     "start_time": "2017-10-05T16:48:10.267002"
    },
    "run_control": {
     "frozen": false,
     "read_only": false
    }
   },
   "outputs": [],
   "source": [
    "for d in datestrings:\n",
    "    globals()['df_%s' % d] = pd.read_csv(os.getenv(\"PUIDATA\") + \"/\" + d + '-citibike-tripdata.csv')"
   ]
  },
  {
   "cell_type": "code",
   "execution_count": 32,
   "metadata": {},
   "outputs": [
    {
     "data": {
      "text/plain": [
       "(1085676, 15)"
      ]
     },
     "execution_count": 32,
     "metadata": {},
     "output_type": "execute_result"
    }
   ],
   "source": [
    "df_201507.shape # (1085676, 15)"
   ]
  },
  {
   "cell_type": "code",
   "execution_count": 33,
   "metadata": {},
   "outputs": [
    {
     "data": {
      "text/plain": [
       "(804125, 15)"
      ]
     },
     "execution_count": 33,
     "metadata": {},
     "output_type": "execute_result"
    }
   ],
   "source": [
    "df_201512.shape # (804125, 15)"
   ]
  },
  {
   "cell_type": "code",
   "execution_count": 34,
   "metadata": {},
   "outputs": [
    {
     "data": {
      "text/plain": [
       "(1889801, 15)"
      ]
     },
     "execution_count": 34,
     "metadata": {},
     "output_type": "execute_result"
    }
   ],
   "source": [
    "df = pd.concat([df_201512, df_201507])\n",
    "df.shape # (1889801, 15)"
   ]
  },
  {
   "cell_type": "code",
   "execution_count": 35,
   "metadata": {},
   "outputs": [],
   "source": [
    "df['ix'] = range(len(df))\n",
    "df.set_index('ix', inplace=True)"
   ]
  },
  {
   "cell_type": "code",
   "execution_count": 36,
   "metadata": {},
   "outputs": [
    {
     "data": {
      "text/html": [
       "<div>\n",
       "<table border=\"1\" class=\"dataframe\">\n",
       "  <thead>\n",
       "    <tr style=\"text-align: right;\">\n",
       "      <th></th>\n",
       "      <th>tripduration</th>\n",
       "      <th>starttime</th>\n",
       "      <th>stoptime</th>\n",
       "      <th>start station id</th>\n",
       "      <th>start station name</th>\n",
       "      <th>start station latitude</th>\n",
       "      <th>start station longitude</th>\n",
       "      <th>end station id</th>\n",
       "      <th>end station name</th>\n",
       "      <th>end station latitude</th>\n",
       "      <th>end station longitude</th>\n",
       "      <th>bikeid</th>\n",
       "      <th>usertype</th>\n",
       "      <th>birth year</th>\n",
       "      <th>gender</th>\n",
       "    </tr>\n",
       "    <tr>\n",
       "      <th>ix</th>\n",
       "      <th></th>\n",
       "      <th></th>\n",
       "      <th></th>\n",
       "      <th></th>\n",
       "      <th></th>\n",
       "      <th></th>\n",
       "      <th></th>\n",
       "      <th></th>\n",
       "      <th></th>\n",
       "      <th></th>\n",
       "      <th></th>\n",
       "      <th></th>\n",
       "      <th></th>\n",
       "      <th></th>\n",
       "      <th></th>\n",
       "    </tr>\n",
       "  </thead>\n",
       "  <tbody>\n",
       "    <tr>\n",
       "      <th>0</th>\n",
       "      <td>475</td>\n",
       "      <td>12/1/2015 07:35:36</td>\n",
       "      <td>12/1/2015 07:43:32</td>\n",
       "      <td>72</td>\n",
       "      <td>W 52 St &amp; 11 Ave</td>\n",
       "      <td>40.767272</td>\n",
       "      <td>-73.993929</td>\n",
       "      <td>173</td>\n",
       "      <td>Broadway &amp; W 49 St</td>\n",
       "      <td>40.760647</td>\n",
       "      <td>-73.984427</td>\n",
       "      <td>22780</td>\n",
       "      <td>Subscriber</td>\n",
       "      <td>1983.0</td>\n",
       "      <td>1</td>\n",
       "    </tr>\n",
       "    <tr>\n",
       "      <th>1</th>\n",
       "      <td>684</td>\n",
       "      <td>12/1/2015 07:38:15</td>\n",
       "      <td>12/1/2015 07:49:39</td>\n",
       "      <td>72</td>\n",
       "      <td>W 52 St &amp; 11 Ave</td>\n",
       "      <td>40.767272</td>\n",
       "      <td>-73.993929</td>\n",
       "      <td>520</td>\n",
       "      <td>W 52 St &amp; 5 Ave</td>\n",
       "      <td>40.759923</td>\n",
       "      <td>-73.976485</td>\n",
       "      <td>17787</td>\n",
       "      <td>Subscriber</td>\n",
       "      <td>1975.0</td>\n",
       "      <td>1</td>\n",
       "    </tr>\n",
       "    <tr>\n",
       "      <th>2</th>\n",
       "      <td>1063</td>\n",
       "      <td>12/1/2015 07:44:49</td>\n",
       "      <td>12/1/2015 08:02:33</td>\n",
       "      <td>72</td>\n",
       "      <td>W 52 St &amp; 11 Ave</td>\n",
       "      <td>40.767272</td>\n",
       "      <td>-73.993929</td>\n",
       "      <td>358</td>\n",
       "      <td>Christopher St &amp; Greenwich St</td>\n",
       "      <td>40.732916</td>\n",
       "      <td>-74.007114</td>\n",
       "      <td>18797</td>\n",
       "      <td>Subscriber</td>\n",
       "      <td>1966.0</td>\n",
       "      <td>1</td>\n",
       "    </tr>\n",
       "  </tbody>\n",
       "</table>\n",
       "</div>"
      ],
      "text/plain": [
       "    tripduration           starttime            stoptime  start station id  \\\n",
       "ix                                                                           \n",
       "0            475  12/1/2015 07:35:36  12/1/2015 07:43:32                72   \n",
       "1            684  12/1/2015 07:38:15  12/1/2015 07:49:39                72   \n",
       "2           1063  12/1/2015 07:44:49  12/1/2015 08:02:33                72   \n",
       "\n",
       "   start station name  start station latitude  start station longitude  \\\n",
       "ix                                                                       \n",
       "0    W 52 St & 11 Ave               40.767272               -73.993929   \n",
       "1    W 52 St & 11 Ave               40.767272               -73.993929   \n",
       "2    W 52 St & 11 Ave               40.767272               -73.993929   \n",
       "\n",
       "    end station id               end station name  end station latitude  \\\n",
       "ix                                                                        \n",
       "0              173             Broadway & W 49 St             40.760647   \n",
       "1              520                W 52 St & 5 Ave             40.759923   \n",
       "2              358  Christopher St & Greenwich St             40.732916   \n",
       "\n",
       "    end station longitude  bikeid    usertype  birth year  gender  \n",
       "ix                                                                 \n",
       "0              -73.984427   22780  Subscriber      1983.0       1  \n",
       "1              -73.976485   17787  Subscriber      1975.0       1  \n",
       "2              -74.007114   18797  Subscriber      1966.0       1  "
      ]
     },
     "execution_count": 36,
     "metadata": {},
     "output_type": "execute_result"
    }
   ],
   "source": [
    "df.head(3)"
   ]
  },
  {
   "cell_type": "code",
   "execution_count": 37,
   "metadata": {},
   "outputs": [
    {
     "data": {
      "text/plain": [
       "ix\n",
       "0   2015-12-01 07:35:36\n",
       "1   2015-12-01 07:38:15\n",
       "2   2015-12-01 07:44:49\n",
       "3   2015-12-01 08:02:29\n",
       "4   2015-12-01 08:06:37\n",
       "5   2015-12-01 08:07:57\n",
       "6   2015-12-01 08:08:53\n",
       "Name: date, dtype: datetime64[ns]"
      ]
     },
     "execution_count": 37,
     "metadata": {},
     "output_type": "execute_result"
    }
   ],
   "source": [
    "def convert_dt(dt):\n",
    "    try:\n",
    "        _dt, _hr, _min, _sec = re.split(':|\\s', dt) # e.g. [12/1/2015, 07, 35, 36]\n",
    "        if _hr == '0':\n",
    "            _hr = '00'\n",
    "        return datetime.strptime('{} {}{}{}'.format(_dt, _hr, _min, _sec), '%m/%d/%Y %H%M%S')\n",
    "    except Exception as e:\n",
    "        print(str(e))\n",
    "        return np.nan\n",
    "df['date'] = df['starttime'].apply(convert_dt)\n",
    "df['date'].head(7)"
   ]
  },
  {
   "cell_type": "code",
   "execution_count": 38,
   "metadata": {
    "ExecuteTime": {
     "end_time": "2017-10-05T16:51:52.008367",
     "start_time": "2017-10-05T16:48:18.977948"
    },
    "run_control": {
     "frozen": false,
     "read_only": false
    }
   },
   "outputs": [
    {
     "data": {
      "text/html": [
       "<div>\n",
       "<table border=\"1\" class=\"dataframe\">\n",
       "  <thead>\n",
       "    <tr style=\"text-align: right;\">\n",
       "      <th></th>\n",
       "      <th>tripduration</th>\n",
       "      <th>starttime</th>\n",
       "      <th>stoptime</th>\n",
       "      <th>start station id</th>\n",
       "      <th>start station name</th>\n",
       "      <th>start station latitude</th>\n",
       "      <th>start station longitude</th>\n",
       "      <th>end station id</th>\n",
       "      <th>end station name</th>\n",
       "      <th>end station latitude</th>\n",
       "      <th>end station longitude</th>\n",
       "      <th>bikeid</th>\n",
       "      <th>usertype</th>\n",
       "      <th>birth year</th>\n",
       "      <th>gender</th>\n",
       "      <th>date</th>\n",
       "    </tr>\n",
       "    <tr>\n",
       "      <th>ix</th>\n",
       "      <th></th>\n",
       "      <th></th>\n",
       "      <th></th>\n",
       "      <th></th>\n",
       "      <th></th>\n",
       "      <th></th>\n",
       "      <th></th>\n",
       "      <th></th>\n",
       "      <th></th>\n",
       "      <th></th>\n",
       "      <th></th>\n",
       "      <th></th>\n",
       "      <th></th>\n",
       "      <th></th>\n",
       "      <th></th>\n",
       "      <th></th>\n",
       "    </tr>\n",
       "  </thead>\n",
       "  <tbody>\n",
       "    <tr>\n",
       "      <th>0</th>\n",
       "      <td>475</td>\n",
       "      <td>12/1/2015 07:35:36</td>\n",
       "      <td>12/1/2015 07:43:32</td>\n",
       "      <td>72</td>\n",
       "      <td>W 52 St &amp; 11 Ave</td>\n",
       "      <td>40.767272</td>\n",
       "      <td>-73.993929</td>\n",
       "      <td>173</td>\n",
       "      <td>Broadway &amp; W 49 St</td>\n",
       "      <td>40.760647</td>\n",
       "      <td>-73.984427</td>\n",
       "      <td>22780</td>\n",
       "      <td>Subscriber</td>\n",
       "      <td>1983.0</td>\n",
       "      <td>1</td>\n",
       "      <td>2015-12-01 07:35:36</td>\n",
       "    </tr>\n",
       "    <tr>\n",
       "      <th>1</th>\n",
       "      <td>684</td>\n",
       "      <td>12/1/2015 07:38:15</td>\n",
       "      <td>12/1/2015 07:49:39</td>\n",
       "      <td>72</td>\n",
       "      <td>W 52 St &amp; 11 Ave</td>\n",
       "      <td>40.767272</td>\n",
       "      <td>-73.993929</td>\n",
       "      <td>520</td>\n",
       "      <td>W 52 St &amp; 5 Ave</td>\n",
       "      <td>40.759923</td>\n",
       "      <td>-73.976485</td>\n",
       "      <td>17787</td>\n",
       "      <td>Subscriber</td>\n",
       "      <td>1975.0</td>\n",
       "      <td>1</td>\n",
       "      <td>2015-12-01 07:38:15</td>\n",
       "    </tr>\n",
       "    <tr>\n",
       "      <th>2</th>\n",
       "      <td>1063</td>\n",
       "      <td>12/1/2015 07:44:49</td>\n",
       "      <td>12/1/2015 08:02:33</td>\n",
       "      <td>72</td>\n",
       "      <td>W 52 St &amp; 11 Ave</td>\n",
       "      <td>40.767272</td>\n",
       "      <td>-73.993929</td>\n",
       "      <td>358</td>\n",
       "      <td>Christopher St &amp; Greenwich St</td>\n",
       "      <td>40.732916</td>\n",
       "      <td>-74.007114</td>\n",
       "      <td>18797</td>\n",
       "      <td>Subscriber</td>\n",
       "      <td>1966.0</td>\n",
       "      <td>1</td>\n",
       "      <td>2015-12-01 07:44:49</td>\n",
       "    </tr>\n",
       "    <tr>\n",
       "      <th>3</th>\n",
       "      <td>1075</td>\n",
       "      <td>12/1/2015 08:02:29</td>\n",
       "      <td>12/1/2015 08:20:24</td>\n",
       "      <td>72</td>\n",
       "      <td>W 52 St &amp; 11 Ave</td>\n",
       "      <td>40.767272</td>\n",
       "      <td>-73.993929</td>\n",
       "      <td>505</td>\n",
       "      <td>6 Ave &amp; W 33 St</td>\n",
       "      <td>40.749013</td>\n",
       "      <td>-73.988484</td>\n",
       "      <td>14625</td>\n",
       "      <td>Subscriber</td>\n",
       "      <td>1985.0</td>\n",
       "      <td>1</td>\n",
       "      <td>2015-12-01 08:02:29</td>\n",
       "    </tr>\n",
       "    <tr>\n",
       "      <th>4</th>\n",
       "      <td>293</td>\n",
       "      <td>12/1/2015 08:06:37</td>\n",
       "      <td>12/1/2015 08:11:30</td>\n",
       "      <td>72</td>\n",
       "      <td>W 52 St &amp; 11 Ave</td>\n",
       "      <td>40.767272</td>\n",
       "      <td>-73.993929</td>\n",
       "      <td>525</td>\n",
       "      <td>W 34 St &amp; 11 Ave</td>\n",
       "      <td>40.755942</td>\n",
       "      <td>-74.002116</td>\n",
       "      <td>21238</td>\n",
       "      <td>Subscriber</td>\n",
       "      <td>1968.0</td>\n",
       "      <td>1</td>\n",
       "      <td>2015-12-01 08:06:37</td>\n",
       "    </tr>\n",
       "  </tbody>\n",
       "</table>\n",
       "</div>"
      ],
      "text/plain": [
       "    tripduration           starttime            stoptime  start station id  \\\n",
       "ix                                                                           \n",
       "0            475  12/1/2015 07:35:36  12/1/2015 07:43:32                72   \n",
       "1            684  12/1/2015 07:38:15  12/1/2015 07:49:39                72   \n",
       "2           1063  12/1/2015 07:44:49  12/1/2015 08:02:33                72   \n",
       "3           1075  12/1/2015 08:02:29  12/1/2015 08:20:24                72   \n",
       "4            293  12/1/2015 08:06:37  12/1/2015 08:11:30                72   \n",
       "\n",
       "   start station name  start station latitude  start station longitude  \\\n",
       "ix                                                                       \n",
       "0    W 52 St & 11 Ave               40.767272               -73.993929   \n",
       "1    W 52 St & 11 Ave               40.767272               -73.993929   \n",
       "2    W 52 St & 11 Ave               40.767272               -73.993929   \n",
       "3    W 52 St & 11 Ave               40.767272               -73.993929   \n",
       "4    W 52 St & 11 Ave               40.767272               -73.993929   \n",
       "\n",
       "    end station id               end station name  end station latitude  \\\n",
       "ix                                                                        \n",
       "0              173             Broadway & W 49 St             40.760647   \n",
       "1              520                W 52 St & 5 Ave             40.759923   \n",
       "2              358  Christopher St & Greenwich St             40.732916   \n",
       "3              505                6 Ave & W 33 St             40.749013   \n",
       "4              525               W 34 St & 11 Ave             40.755942   \n",
       "\n",
       "    end station longitude  bikeid    usertype  birth year  gender  \\\n",
       "ix                                                                  \n",
       "0              -73.984427   22780  Subscriber      1983.0       1   \n",
       "1              -73.976485   17787  Subscriber      1975.0       1   \n",
       "2              -74.007114   18797  Subscriber      1966.0       1   \n",
       "3              -73.988484   14625  Subscriber      1985.0       1   \n",
       "4              -74.002116   21238  Subscriber      1968.0       1   \n",
       "\n",
       "                  date  \n",
       "ix                      \n",
       "0  2015-12-01 07:35:36  \n",
       "1  2015-12-01 07:38:15  \n",
       "2  2015-12-01 07:44:49  \n",
       "3  2015-12-01 08:02:29  \n",
       "4  2015-12-01 08:06:37  "
      ]
     },
     "execution_count": 38,
     "metadata": {},
     "output_type": "execute_result"
    }
   ],
   "source": [
    "df.head()"
   ]
  },
  {
   "cell_type": "code",
   "execution_count": 39,
   "metadata": {
    "run_control": {
     "frozen": false,
     "read_only": false
    }
   },
   "outputs": [
    {
     "data": {
      "text/plain": [
       "Index(['tripduration', 'starttime', 'stoptime', 'start station id',\n",
       "       'start station name', 'start station latitude',\n",
       "       'start station longitude', 'end station id', 'end station name',\n",
       "       'end station latitude', 'end station longitude', 'bikeid', 'usertype',\n",
       "       'birth year', 'gender', 'date'],\n",
       "      dtype='object')"
      ]
     },
     "execution_count": 39,
     "metadata": {},
     "output_type": "execute_result"
    }
   ],
   "source": [
    "df.columns"
   ]
  },
  {
   "cell_type": "markdown",
   "metadata": {
    "run_control": {
     "frozen": false,
     "read_only": false
    }
   },
   "source": [
    "# SPLIT BY CATEGORY\n",
    "\n",
    "as an example I am splitting data by gender and looking at age or riders:\n",
    "\n",
    "**H0: there is no statistical difference in the age distribution of male and female riders**\n",
    "$$ \\alpha = 0.05 $$\n",
    "\n",
    "extracting the age happens in the cell below"
   ]
  },
  {
   "cell_type": "code",
   "execution_count": 40,
   "metadata": {
    "ExecuteTime": {
     "end_time": "2017-10-05T16:51:52.357332",
     "start_time": "2017-10-05T16:51:52.017199"
    },
    "run_control": {
     "frozen": false,
     "read_only": false
    }
   },
   "outputs": [],
   "source": [
    "#df is the dataframe where the content of the csv file is stored\n",
    "df['ageM'] = 2015 - df[(df['usertype'] == 'Subscriber') & (df['gender'] == 1)]['birth year']\n",
    "df['ageF'] = 2015 - df[(df['usertype'] == 'Subscriber') & (df['gender'] == 2)]['birth year']"
   ]
  },
  {
   "cell_type": "code",
   "execution_count": 41,
   "metadata": {},
   "outputs": [
    {
     "data": {
      "text/plain": [
       "1889801"
      ]
     },
     "execution_count": 41,
     "metadata": {},
     "output_type": "execute_result"
    }
   ],
   "source": [
    "# checking if my index is unique\n",
    "df.shape # (1889801, 16)\n",
    "len(df.index.unique()) # 1889801"
   ]
  },
  {
   "cell_type": "code",
   "execution_count": 42,
   "metadata": {
    "run_control": {
     "frozen": false,
     "read_only": false
    }
   },
   "outputs": [
    {
     "data": {
      "text/html": [
       "<div>\n",
       "<table border=\"1\" class=\"dataframe\">\n",
       "  <thead>\n",
       "    <tr style=\"text-align: right;\">\n",
       "      <th></th>\n",
       "      <th>tripduration</th>\n",
       "      <th>starttime</th>\n",
       "      <th>stoptime</th>\n",
       "      <th>start station id</th>\n",
       "      <th>start station name</th>\n",
       "      <th>start station latitude</th>\n",
       "      <th>start station longitude</th>\n",
       "      <th>end station id</th>\n",
       "      <th>end station name</th>\n",
       "      <th>end station latitude</th>\n",
       "      <th>end station longitude</th>\n",
       "      <th>bikeid</th>\n",
       "      <th>usertype</th>\n",
       "      <th>birth year</th>\n",
       "      <th>gender</th>\n",
       "      <th>date</th>\n",
       "      <th>ageM</th>\n",
       "      <th>ageF</th>\n",
       "    </tr>\n",
       "    <tr>\n",
       "      <th>ix</th>\n",
       "      <th></th>\n",
       "      <th></th>\n",
       "      <th></th>\n",
       "      <th></th>\n",
       "      <th></th>\n",
       "      <th></th>\n",
       "      <th></th>\n",
       "      <th></th>\n",
       "      <th></th>\n",
       "      <th></th>\n",
       "      <th></th>\n",
       "      <th></th>\n",
       "      <th></th>\n",
       "      <th></th>\n",
       "      <th></th>\n",
       "      <th></th>\n",
       "      <th></th>\n",
       "      <th></th>\n",
       "    </tr>\n",
       "  </thead>\n",
       "  <tbody>\n",
       "    <tr>\n",
       "      <th>0</th>\n",
       "      <td>475</td>\n",
       "      <td>12/1/2015 07:35:36</td>\n",
       "      <td>12/1/2015 07:43:32</td>\n",
       "      <td>72</td>\n",
       "      <td>W 52 St &amp; 11 Ave</td>\n",
       "      <td>40.767272</td>\n",
       "      <td>-73.993929</td>\n",
       "      <td>173</td>\n",
       "      <td>Broadway &amp; W 49 St</td>\n",
       "      <td>40.760647</td>\n",
       "      <td>-73.984427</td>\n",
       "      <td>22780</td>\n",
       "      <td>Subscriber</td>\n",
       "      <td>1983.0</td>\n",
       "      <td>1</td>\n",
       "      <td>2015-12-01 07:35:36</td>\n",
       "      <td>32.0</td>\n",
       "      <td>NaN</td>\n",
       "    </tr>\n",
       "    <tr>\n",
       "      <th>1</th>\n",
       "      <td>684</td>\n",
       "      <td>12/1/2015 07:38:15</td>\n",
       "      <td>12/1/2015 07:49:39</td>\n",
       "      <td>72</td>\n",
       "      <td>W 52 St &amp; 11 Ave</td>\n",
       "      <td>40.767272</td>\n",
       "      <td>-73.993929</td>\n",
       "      <td>520</td>\n",
       "      <td>W 52 St &amp; 5 Ave</td>\n",
       "      <td>40.759923</td>\n",
       "      <td>-73.976485</td>\n",
       "      <td>17787</td>\n",
       "      <td>Subscriber</td>\n",
       "      <td>1975.0</td>\n",
       "      <td>1</td>\n",
       "      <td>2015-12-01 07:38:15</td>\n",
       "      <td>40.0</td>\n",
       "      <td>NaN</td>\n",
       "    </tr>\n",
       "    <tr>\n",
       "      <th>2</th>\n",
       "      <td>1063</td>\n",
       "      <td>12/1/2015 07:44:49</td>\n",
       "      <td>12/1/2015 08:02:33</td>\n",
       "      <td>72</td>\n",
       "      <td>W 52 St &amp; 11 Ave</td>\n",
       "      <td>40.767272</td>\n",
       "      <td>-73.993929</td>\n",
       "      <td>358</td>\n",
       "      <td>Christopher St &amp; Greenwich St</td>\n",
       "      <td>40.732916</td>\n",
       "      <td>-74.007114</td>\n",
       "      <td>18797</td>\n",
       "      <td>Subscriber</td>\n",
       "      <td>1966.0</td>\n",
       "      <td>1</td>\n",
       "      <td>2015-12-01 07:44:49</td>\n",
       "      <td>49.0</td>\n",
       "      <td>NaN</td>\n",
       "    </tr>\n",
       "    <tr>\n",
       "      <th>3</th>\n",
       "      <td>1075</td>\n",
       "      <td>12/1/2015 08:02:29</td>\n",
       "      <td>12/1/2015 08:20:24</td>\n",
       "      <td>72</td>\n",
       "      <td>W 52 St &amp; 11 Ave</td>\n",
       "      <td>40.767272</td>\n",
       "      <td>-73.993929</td>\n",
       "      <td>505</td>\n",
       "      <td>6 Ave &amp; W 33 St</td>\n",
       "      <td>40.749013</td>\n",
       "      <td>-73.988484</td>\n",
       "      <td>14625</td>\n",
       "      <td>Subscriber</td>\n",
       "      <td>1985.0</td>\n",
       "      <td>1</td>\n",
       "      <td>2015-12-01 08:02:29</td>\n",
       "      <td>30.0</td>\n",
       "      <td>NaN</td>\n",
       "    </tr>\n",
       "    <tr>\n",
       "      <th>4</th>\n",
       "      <td>293</td>\n",
       "      <td>12/1/2015 08:06:37</td>\n",
       "      <td>12/1/2015 08:11:30</td>\n",
       "      <td>72</td>\n",
       "      <td>W 52 St &amp; 11 Ave</td>\n",
       "      <td>40.767272</td>\n",
       "      <td>-73.993929</td>\n",
       "      <td>525</td>\n",
       "      <td>W 34 St &amp; 11 Ave</td>\n",
       "      <td>40.755942</td>\n",
       "      <td>-74.002116</td>\n",
       "      <td>21238</td>\n",
       "      <td>Subscriber</td>\n",
       "      <td>1968.0</td>\n",
       "      <td>1</td>\n",
       "      <td>2015-12-01 08:06:37</td>\n",
       "      <td>47.0</td>\n",
       "      <td>NaN</td>\n",
       "    </tr>\n",
       "  </tbody>\n",
       "</table>\n",
       "</div>"
      ],
      "text/plain": [
       "    tripduration           starttime            stoptime  start station id  \\\n",
       "ix                                                                           \n",
       "0            475  12/1/2015 07:35:36  12/1/2015 07:43:32                72   \n",
       "1            684  12/1/2015 07:38:15  12/1/2015 07:49:39                72   \n",
       "2           1063  12/1/2015 07:44:49  12/1/2015 08:02:33                72   \n",
       "3           1075  12/1/2015 08:02:29  12/1/2015 08:20:24                72   \n",
       "4            293  12/1/2015 08:06:37  12/1/2015 08:11:30                72   \n",
       "\n",
       "   start station name  start station latitude  start station longitude  \\\n",
       "ix                                                                       \n",
       "0    W 52 St & 11 Ave               40.767272               -73.993929   \n",
       "1    W 52 St & 11 Ave               40.767272               -73.993929   \n",
       "2    W 52 St & 11 Ave               40.767272               -73.993929   \n",
       "3    W 52 St & 11 Ave               40.767272               -73.993929   \n",
       "4    W 52 St & 11 Ave               40.767272               -73.993929   \n",
       "\n",
       "    end station id               end station name  end station latitude  \\\n",
       "ix                                                                        \n",
       "0              173             Broadway & W 49 St             40.760647   \n",
       "1              520                W 52 St & 5 Ave             40.759923   \n",
       "2              358  Christopher St & Greenwich St             40.732916   \n",
       "3              505                6 Ave & W 33 St             40.749013   \n",
       "4              525               W 34 St & 11 Ave             40.755942   \n",
       "\n",
       "    end station longitude  bikeid    usertype  birth year  gender  \\\n",
       "ix                                                                  \n",
       "0              -73.984427   22780  Subscriber      1983.0       1   \n",
       "1              -73.976485   17787  Subscriber      1975.0       1   \n",
       "2              -74.007114   18797  Subscriber      1966.0       1   \n",
       "3              -73.988484   14625  Subscriber      1985.0       1   \n",
       "4              -74.002116   21238  Subscriber      1968.0       1   \n",
       "\n",
       "                  date  ageM  ageF  \n",
       "ix                                  \n",
       "0  2015-12-01 07:35:36  32.0   NaN  \n",
       "1  2015-12-01 07:38:15  40.0   NaN  \n",
       "2  2015-12-01 07:44:49  49.0   NaN  \n",
       "3  2015-12-01 08:02:29  30.0   NaN  \n",
       "4  2015-12-01 08:06:37  47.0   NaN  "
      ]
     },
     "execution_count": 42,
     "metadata": {},
     "output_type": "execute_result"
    }
   ],
   "source": [
    "df.head()"
   ]
  },
  {
   "cell_type": "code",
   "execution_count": 43,
   "metadata": {
    "ExecuteTime": {
     "end_time": "2017-10-05T16:55:03.392271",
     "start_time": "2017-10-05T16:55:02.902521"
    },
    "run_control": {
     "frozen": false,
     "read_only": false
    }
   },
   "outputs": [
    {
     "name": "stderr",
     "output_type": "stream",
     "text": [
      "/usr/local/Anaconda3-5.0.0-Linux-x86_64/envs/PUI2016_Python3/lib/python3.5/site-packages/numpy/lib/function_base.py:3403: RuntimeWarning: Invalid value encountered in median\n",
      "  RuntimeWarning)\n"
     ]
    },
    {
     "data": {
      "text/html": [
       "<div>\n",
       "<table border=\"1\" class=\"dataframe\">\n",
       "  <thead>\n",
       "    <tr style=\"text-align: right;\">\n",
       "      <th></th>\n",
       "      <th>tripduration</th>\n",
       "      <th>start station id</th>\n",
       "      <th>start station latitude</th>\n",
       "      <th>start station longitude</th>\n",
       "      <th>end station id</th>\n",
       "      <th>end station latitude</th>\n",
       "      <th>end station longitude</th>\n",
       "      <th>bikeid</th>\n",
       "      <th>birth year</th>\n",
       "      <th>gender</th>\n",
       "      <th>ageM</th>\n",
       "      <th>ageF</th>\n",
       "    </tr>\n",
       "  </thead>\n",
       "  <tbody>\n",
       "    <tr>\n",
       "      <th>count</th>\n",
       "      <td>1.889801e+06</td>\n",
       "      <td>1.889801e+06</td>\n",
       "      <td>1.889801e+06</td>\n",
       "      <td>1.889801e+06</td>\n",
       "      <td>1.889801e+06</td>\n",
       "      <td>1.889801e+06</td>\n",
       "      <td>1.889801e+06</td>\n",
       "      <td>1.889801e+06</td>\n",
       "      <td>1.641559e+06</td>\n",
       "      <td>1.889801e+06</td>\n",
       "      <td>1.255483e+06</td>\n",
       "      <td>383379.000000</td>\n",
       "    </tr>\n",
       "    <tr>\n",
       "      <th>mean</th>\n",
       "      <td>9.583266e+02</td>\n",
       "      <td>6.276480e+02</td>\n",
       "      <td>4.073616e+01</td>\n",
       "      <td>-7.398957e+01</td>\n",
       "      <td>6.196815e+02</td>\n",
       "      <td>4.073590e+01</td>\n",
       "      <td>-7.398972e+01</td>\n",
       "      <td>1.969916e+04</td>\n",
       "      <td>1.976483e+03</td>\n",
       "      <td>1.070083e+00</td>\n",
       "      <td>3.887598e+01</td>\n",
       "      <td>37.293895</td>\n",
       "    </tr>\n",
       "    <tr>\n",
       "      <th>std</th>\n",
       "      <td>8.776248e+03</td>\n",
       "      <td>7.485597e+02</td>\n",
       "      <td>2.045146e-02</td>\n",
       "      <td>1.393905e-02</td>\n",
       "      <td>7.379210e+02</td>\n",
       "      <td>2.042835e-02</td>\n",
       "      <td>1.393589e-02</td>\n",
       "      <td>2.865377e+03</td>\n",
       "      <td>1.161908e+01</td>\n",
       "      <td>5.751002e-01</td>\n",
       "      <td>1.161323e+01</td>\n",
       "      <td>11.378984</td>\n",
       "    </tr>\n",
       "    <tr>\n",
       "      <th>min</th>\n",
       "      <td>6.000000e+01</td>\n",
       "      <td>7.200000e+01</td>\n",
       "      <td>4.067891e+01</td>\n",
       "      <td>-7.401713e+01</td>\n",
       "      <td>7.200000e+01</td>\n",
       "      <td>4.064677e+01</td>\n",
       "      <td>-7.403805e+01</td>\n",
       "      <td>1.452900e+04</td>\n",
       "      <td>1.885000e+03</td>\n",
       "      <td>0.000000e+00</td>\n",
       "      <td>1.600000e+01</td>\n",
       "      <td>16.000000</td>\n",
       "    </tr>\n",
       "    <tr>\n",
       "      <th>25%</th>\n",
       "      <td>3.850000e+02</td>\n",
       "      <td>3.130000e+02</td>\n",
       "      <td>4.072182e+01</td>\n",
       "      <td>-7.399950e+01</td>\n",
       "      <td>3.120000e+02</td>\n",
       "      <td>4.072182e+01</td>\n",
       "      <td>-7.399974e+01</td>\n",
       "      <td>1.721300e+04</td>\n",
       "      <td>NaN</td>\n",
       "      <td>1.000000e+00</td>\n",
       "      <td>NaN</td>\n",
       "      <td>NaN</td>\n",
       "    </tr>\n",
       "    <tr>\n",
       "      <th>50%</th>\n",
       "      <td>6.230000e+02</td>\n",
       "      <td>4.320000e+02</td>\n",
       "      <td>4.073726e+01</td>\n",
       "      <td>-7.399021e+01</td>\n",
       "      <td>4.280000e+02</td>\n",
       "      <td>4.073705e+01</td>\n",
       "      <td>-7.399054e+01</td>\n",
       "      <td>1.980900e+04</td>\n",
       "      <td>NaN</td>\n",
       "      <td>1.000000e+00</td>\n",
       "      <td>NaN</td>\n",
       "      <td>NaN</td>\n",
       "    </tr>\n",
       "    <tr>\n",
       "      <th>75%</th>\n",
       "      <td>1.036000e+03</td>\n",
       "      <td>5.030000e+02</td>\n",
       "      <td>4.075140e+01</td>\n",
       "      <td>-7.398135e+01</td>\n",
       "      <td>5.000000e+02</td>\n",
       "      <td>4.075097e+01</td>\n",
       "      <td>-7.398142e+01</td>\n",
       "      <td>2.232800e+04</td>\n",
       "      <td>NaN</td>\n",
       "      <td>1.000000e+00</td>\n",
       "      <td>NaN</td>\n",
       "      <td>NaN</td>\n",
       "    </tr>\n",
       "    <tr>\n",
       "      <th>max</th>\n",
       "      <td>5.174309e+06</td>\n",
       "      <td>3.242000e+03</td>\n",
       "      <td>4.078721e+01</td>\n",
       "      <td>-7.392989e+01</td>\n",
       "      <td>3.242000e+03</td>\n",
       "      <td>4.078721e+01</td>\n",
       "      <td>-7.392989e+01</td>\n",
       "      <td>2.476900e+04</td>\n",
       "      <td>1.999000e+03</td>\n",
       "      <td>2.000000e+00</td>\n",
       "      <td>1.300000e+02</td>\n",
       "      <td>89.000000</td>\n",
       "    </tr>\n",
       "  </tbody>\n",
       "</table>\n",
       "</div>"
      ],
      "text/plain": [
       "       tripduration  start station id  start station latitude  \\\n",
       "count  1.889801e+06      1.889801e+06            1.889801e+06   \n",
       "mean   9.583266e+02      6.276480e+02            4.073616e+01   \n",
       "std    8.776248e+03      7.485597e+02            2.045146e-02   \n",
       "min    6.000000e+01      7.200000e+01            4.067891e+01   \n",
       "25%    3.850000e+02      3.130000e+02            4.072182e+01   \n",
       "50%    6.230000e+02      4.320000e+02            4.073726e+01   \n",
       "75%    1.036000e+03      5.030000e+02            4.075140e+01   \n",
       "max    5.174309e+06      3.242000e+03            4.078721e+01   \n",
       "\n",
       "       start station longitude  end station id  end station latitude  \\\n",
       "count             1.889801e+06    1.889801e+06          1.889801e+06   \n",
       "mean             -7.398957e+01    6.196815e+02          4.073590e+01   \n",
       "std               1.393905e-02    7.379210e+02          2.042835e-02   \n",
       "min              -7.401713e+01    7.200000e+01          4.064677e+01   \n",
       "25%              -7.399950e+01    3.120000e+02          4.072182e+01   \n",
       "50%              -7.399021e+01    4.280000e+02          4.073705e+01   \n",
       "75%              -7.398135e+01    5.000000e+02          4.075097e+01   \n",
       "max              -7.392989e+01    3.242000e+03          4.078721e+01   \n",
       "\n",
       "       end station longitude        bikeid    birth year        gender  \\\n",
       "count           1.889801e+06  1.889801e+06  1.641559e+06  1.889801e+06   \n",
       "mean           -7.398972e+01  1.969916e+04  1.976483e+03  1.070083e+00   \n",
       "std             1.393589e-02  2.865377e+03  1.161908e+01  5.751002e-01   \n",
       "min            -7.403805e+01  1.452900e+04  1.885000e+03  0.000000e+00   \n",
       "25%            -7.399974e+01  1.721300e+04           NaN  1.000000e+00   \n",
       "50%            -7.399054e+01  1.980900e+04           NaN  1.000000e+00   \n",
       "75%            -7.398142e+01  2.232800e+04           NaN  1.000000e+00   \n",
       "max            -7.392989e+01  2.476900e+04  1.999000e+03  2.000000e+00   \n",
       "\n",
       "               ageM           ageF  \n",
       "count  1.255483e+06  383379.000000  \n",
       "mean   3.887598e+01      37.293895  \n",
       "std    1.161323e+01      11.378984  \n",
       "min    1.600000e+01      16.000000  \n",
       "25%             NaN            NaN  \n",
       "50%             NaN            NaN  \n",
       "75%             NaN            NaN  \n",
       "max    1.300000e+02      89.000000  "
      ]
     },
     "execution_count": 43,
     "metadata": {},
     "output_type": "execute_result"
    }
   ],
   "source": [
    "#your df should look something like this\n",
    "# look at these data carefully... you may see someinteresting values!\n",
    "df.describe()"
   ]
  },
  {
   "cell_type": "code",
   "execution_count": 44,
   "metadata": {},
   "outputs": [],
   "source": [
    "__DF_RAW__ = deepcopy(df)"
   ]
  },
  {
   "cell_type": "code",
   "execution_count": 45,
   "metadata": {
    "ExecuteTime": {
     "end_time": "2017-10-05T16:55:05.649685",
     "start_time": "2017-10-05T16:55:05.635796"
    },
    "run_control": {
     "frozen": false,
     "read_only": false
    }
   },
   "outputs": [],
   "source": [
    "# dropping NaN values\n",
    "df['ageM'].dropna(inplace= True)\n",
    "df['ageF'].dropna(inplace= True)"
   ]
  },
  {
   "cell_type": "markdown",
   "metadata": {
    "run_control": {
     "frozen": false,
     "read_only": false
    }
   },
   "source": [
    "lets split age in 10 year bins. the dataset is very large, so i could be split in smaller bins, but I will chose 10 years in the interest of time. \n",
    "the bin size choice should be a balance between properly sample the age space, have enough counts in each bin that the statistical noise is not significant (remember that is > sqrt(N)!) and the computational requirement to computatinal facilities ratio. "
   ]
  },
  {
   "cell_type": "markdown",
   "metadata": {
    "run_control": {
     "frozen": false,
     "read_only": false
    }
   },
   "source": [
    "the next several steps are needed if you want to code up the KS test from scratch. that is for extra credit, so if you do not want to do it you may not need to plot split the distribution in bins and create the cumulative HOWEVER it is a great idea to do it anyways to explore your data viaually! remember Ascombe's quartet!!"
   ]
  },
  {
   "cell_type": "code",
   "execution_count": 46,
   "metadata": {
    "ExecuteTime": {
     "end_time": "2017-10-05T16:55:21.602238",
     "start_time": "2017-10-05T16:55:20.487384"
    },
    "run_control": {
     "frozen": false,
     "read_only": false
    }
   },
   "outputs": [
    {
     "name": "stderr",
     "output_type": "stream",
     "text": [
      "/usr/local/Anaconda3-5.0.0-Linux-x86_64/envs/PUI2016_Python3/lib/python3.5/site-packages/matplotlib/font_manager.py:1316: UserWarning: findfont: Font family ['normal'] not found. Falling back to DejaVu Sans\n",
      "  (prop.get_family(), self.defaultFamily[fontext]))\n"
     ]
    },
    {
     "data": {
      "image/png": "[encoded data removed]",
      "text/plain": [
       "<matplotlib.figure.Figure at 0x7f6f256a7940>"
      ]
     },
     "metadata": {},
     "output_type": "display_data"
    },
    {
     "data": {
      "image/png": "[encoded data removed]",
      "text/plain": [
       "<matplotlib.figure.Figure at 0x7f6ef7f4a208>"
      ]
     },
     "metadata": {},
     "output_type": "display_data"
    }
   ],
   "source": [
    "# plotting histograms with pandas is a bit different than with pylab\n",
    "# this is a VERY USEFUL syntax for you to knonw!\n",
    "bins = np.arange(10, 99, 10)\n",
    "axM = df.ageM.groupby(pd.cut(df.ageM, bins)).agg([np.count_nonzero]).plot(kind='bar', \n",
    "                                                                legend=False)\n",
    "axM.set_title(\"male riders\")\n",
    "axF = df.ageF.groupby(pd.cut(df.ageF, bins)).agg([np.count_nonzero]).plot(kind='bar',\n",
    "                                                                legend=False)\n",
    "axF.set_title(\"female riders\");\n"
   ]
  },
  {
   "cell_type": "markdown",
   "metadata": {
    "run_control": {
     "frozen": false,
     "read_only": false
    }
   },
   "source": [
    "**Figure 1: histogrammed distribution of riders' ages by gender **\n",
    "The histogrammed distributions for male and female citibike trip counts. 20~40 year olds ride the most across both genders. However, in male trips distribution, 30~40 year old bin shows more trip counts, while in female riders distribution 20~30 records a higher trip count."
   ]
  },
  {
   "cell_type": "markdown",
   "metadata": {
    "run_control": {
     "frozen": false,
     "read_only": false
    }
   },
   "source": [
    "this is how the cumulative distributions look like.  Notice that i am normalizing them! if i want to reat an observed distribution like a probablility distribution i have to normalize it"
   ]
  },
  {
   "cell_type": "code",
   "execution_count": 47,
   "metadata": {
    "run_control": {
     "frozen": false,
     "read_only": false
    },
    "scrolled": false
   },
   "outputs": [
    {
     "name": "stdout",
     "output_type": "stream",
     "text": [
      "          count_nonzero\n",
      "ageM                   \n",
      "(10, 20]       0.000407\n",
      "(20, 30]       0.068005\n",
      "(30, 40]       0.056184\n",
      "(40, 50]       0.017647\n",
      "(50, 60]       0.013164\n",
      "(60, 70]       0.001765\n",
      "(70, 80]       0.000311\n",
      "(80, 90]       0.000000\n"
     ]
    },
    {
     "data": {
      "text/plain": [
       "<matplotlib.legend.Legend at 0x7f6ee4da8c88>"
      ]
     },
     "execution_count": 47,
     "metadata": {},
     "output_type": "execute_result"
    },
    {
     "name": "stderr",
     "output_type": "stream",
     "text": [
      "/usr/local/Anaconda3-5.0.0-Linux-x86_64/envs/PUI2016_Python3/lib/python3.5/site-packages/matplotlib/font_manager.py:1316: UserWarning: findfont: Font family ['normal'] not found. Falling back to DejaVu Sans\n",
      "  (prop.get_family(), self.defaultFamily[fontext]))\n"
     ]
    },
    {
     "data": {
      "image/png": "[encoded data removed]",
      "text/plain": [
       "<matplotlib.figure.Figure at 0x7f6ef7fa4fd0>"
      ]
     },
     "metadata": {},
     "output_type": "display_data"
    }
   ],
   "source": [
    "#print df.ageS, df.ageS.cumsum()\n",
    "\n",
    "csM=df.ageM.groupby(pd.cut(df.ageM, bins)).agg([np.count_nonzero]).cumsum()\n",
    "\n",
    "csF=df.ageF.groupby(pd.cut(df.ageF, bins)).agg([np.count_nonzero]).cumsum()\n",
    "\n",
    "print (np.abs(csM / csM.max()-csF / csF.max()))\n",
    "\n",
    "pl.plot(bins[:-1] + 5, csM / csM.max(), label = \"M\")\n",
    "pl.plot(bins[:-1] + 5, csF / csF.max(), label = \"F\")\n",
    "pl.plot(bins[:-1] + 5, np.sqrt(csF / csF.max() - csM / csM.max())**2, 'k-',\n",
    "        label = \"difference\")\n",
    "pl.xlabel(\"Age\")\n",
    "pl.ylabel(\"Normalized Cumulative Number\")\n",
    "pl.legend()"
   ]
  },
  {
   "cell_type": "markdown",
   "metadata": {
    "run_control": {
     "frozen": false,
     "read_only": false
    }
   },
   "source": [
    "** Figure 2: the cumulative distribution of CitiBike riders' ages by gender** ... [As discussed in the previous figure, The distributions show the general trend where 20~40 year olds take up the majority of trips, and either end of the distribution tail. The noticeable difference between 20~30 and 30~40 proportions in male and female distributions is also expressed in CDFs here, as the difference is the greatest at Age = 25]"
   ]
  },
  {
   "cell_type": "markdown",
   "metadata": {
    "run_control": {
     "frozen": false,
     "read_only": false
    }
   },
   "source": [
    "They look similar! But the difference gets to 10%. If I wanted to code the KS test by hand I woud have everything I need: the normalized cumulative distributions can be subtracted from each other and the max distance can calculated. \n",
    "\n",
    "Notice that there may be NaN values you are gonna have to deal with! \n",
    "You can do that for example with a Boolean statementsuch as  df.ageF[~np.isnan(df.ageF)] or you can use numpy functions that deal with Nan values: nansum, nanmean, nanstd..."
   ]
  },
  {
   "cell_type": "markdown",
   "metadata": {
    "run_control": {
     "frozen": false,
     "read_only": false
    }
   },
   "source": [
    "lets run the scipy KS test"
   ]
  },
  {
   "cell_type": "code",
   "execution_count": 48,
   "metadata": {
    "ExecuteTime": {
     "end_time": "2017-10-05T16:58:02.949986",
     "start_time": "2017-10-05T16:58:02.443596"
    },
    "run_control": {
     "frozen": false,
     "read_only": false
    },
    "scrolled": false
   },
   "outputs": [],
   "source": [
    "import scipy.stats\n",
    "#remember that your imports should all be at the top. I leave it here to hightlight that this package is needed at this point of the workflow"
   ]
  },
  {
   "cell_type": "markdown",
   "metadata": {
    "run_control": {
     "frozen": false,
     "read_only": false
    }
   },
   "source": [
    "# KS tests to compare 2 samples\n",
    "\n",
    "http://docs.scipy.org/doc/scipy-0.15.1/reference/generated/scipy.stats.ks_2samp.html\n",
    "\n",
    "the KS test in scipy returns the p-value BUT make sure you understand what the NULL is! read the documentation carefully! what is the null hypothesis that you can/cannot reject?"
   ]
  },
  {
   "cell_type": "code",
   "execution_count": 49,
   "metadata": {
    "ExecuteTime": {
     "end_time": "2017-10-05T16:58:13.968035",
     "start_time": "2017-10-05T16:58:13.899033"
    },
    "run_control": {
     "frozen": false,
     "read_only": false
    }
   },
   "outputs": [
    {
     "name": "stdout",
     "output_type": "stream",
     "text": [
      "Ks_2sampResult(statistic=0.077581726534685036, pvalue=0.0)\n"
     ]
    }
   ],
   "source": [
    "ks = scipy.stats.ks_2samp(df.ageM, df.ageF)\n",
    "print (ks)"
   ]
  },
  {
   "cell_type": "markdown",
   "metadata": {
    "run_control": {
     "frozen": false,
     "read_only": false
    }
   },
   "source": [
    "**  FILL IN THE CELL BELOW!**"
   ]
  },
  {
   "cell_type": "markdown",
   "metadata": {
    "ExecuteTime": {
     "end_time": "2017-10-05T16:58:24.751556",
     "start_time": "2017-10-05T16:58:24.747653"
    },
    "collapsed": true,
    "run_control": {
     "frozen": false,
     "read_only": false
    }
   },
   "source": [
    "#### Return values for scipy.stats.ks_2samp\n",
    "\n",
    "* D : float\n",
    "    * KS statistic\n",
    "* p-value : float\n",
    "    * two-tailed p-value\n",
    "\n",
    "$$\n",
    "H_0:F_{female}(Age)=F_{male}(Age) \n",
    "$$\n",
    "$$\n",
    "H_1:F_{female}(Age)\\ne F_{male}(Age) \n",
    "$$\n",
    "We can reject the null hypothesis at 99% level confidence level"
   ]
  },
  {
   "cell_type": "markdown",
   "metadata": {
    "run_control": {
     "frozen": false,
     "read_only": false
    }
   },
   "source": [
    "The scipy.stats KS test already tells me the significance and the p-value. \n",
    "\n",
    "The next few cells are here just to show you how you would obtain the same result by hand, but they are **not required**. \n",
    "\n",
    "Remember: the Null hypothesis is rejected if \n",
    "\n",
    "$D_KS(n1,n2) > c(\\alpha) \\sqrt{\\frac{(n1 + n2)}{n1n2}}$\n",
    "\n",
    "(see class notes) where $c(\\alpha$) is the inverse of the KS distribution, and you do not have to know how to get that cause there are tables that list critical values!! \n",
    "\n",
    "http://www.real-statistics.com/tests-normality-and-symmetry/statistical-tests-normality-symmetry/kolmogorov-smirnov-test/kolmogorov-distribution/\n",
    "\n",
    "But also this result depends in your choice of binning through, and thustheresultyou get by hand may not be exactly the same as the one the KS returns. Either way: this is how you would calculate the KS statistics by hand."
   ]
  },
  {
   "cell_type": "code",
   "execution_count": 50,
   "metadata": {
    "ExecuteTime": {
     "end_time": "2017-10-05T16:58:33.858841",
     "start_time": "2017-10-05T16:58:33.850240"
    },
    "run_control": {
     "frozen": false,
     "read_only": false
    },
    "scrolled": true
   },
   "outputs": [
    {
     "ename": "FileNotFoundError",
     "evalue": "[Errno 2] No such file or directory: '../plotsforclasses/ks2sample_table.png'",
     "output_type": "error",
     "traceback": [
      "\u001b[0;31m---------------------------------------------------------------------------\u001b[0m",
      "\u001b[0;31mFileNotFoundError\u001b[0m                         Traceback (most recent call last)",
      "\u001b[0;32m<ipython-input-50-01cb476a6a29>\u001b[0m in \u001b[0;36m<module>\u001b[0;34m()\u001b[0m\n\u001b[1;32m      1\u001b[0m \u001b[0;31m#here is the critical values tablel. Have you chosen your significance level yet?? you should do it first thing!\u001b[0m\u001b[0;34m\u001b[0m\u001b[0;34m\u001b[0m\u001b[0m\n\u001b[1;32m      2\u001b[0m \u001b[0;32mfrom\u001b[0m \u001b[0mIPython\u001b[0m\u001b[0;34m.\u001b[0m\u001b[0mdisplay\u001b[0m \u001b[0;32mimport\u001b[0m \u001b[0mImage\u001b[0m\u001b[0;34m\u001b[0m\u001b[0m\n\u001b[0;32m----> 3\u001b[0;31m \u001b[0mImage\u001b[0m\u001b[0;34m(\u001b[0m\u001b[0mfilename\u001b[0m\u001b[0;34m=\u001b[0m\u001b[0;34m\"../plotsforclasses/ks2sample_table.png\"\u001b[0m\u001b[0;34m)\u001b[0m\u001b[0;34m\u001b[0m\u001b[0m\n\u001b[0m",
      "\u001b[0;32m/usr/local/Anaconda3-5.0.0-Linux-x86_64/envs/PUI2016_Python3/lib/python3.5/site-packages/IPython/core/display.py\u001b[0m in \u001b[0;36m__init__\u001b[0;34m(self, data, url, filename, format, embed, width, height, retina, unconfined, metadata)\u001b[0m\n\u001b[1;32m    755\u001b[0m         \u001b[0mself\u001b[0m\u001b[0;34m.\u001b[0m\u001b[0munconfined\u001b[0m \u001b[0;34m=\u001b[0m \u001b[0munconfined\u001b[0m\u001b[0;34m\u001b[0m\u001b[0m\n\u001b[1;32m    756\u001b[0m         \u001b[0mself\u001b[0m\u001b[0;34m.\u001b[0m\u001b[0mmetadata\u001b[0m \u001b[0;34m=\u001b[0m \u001b[0mmetadata\u001b[0m\u001b[0;34m\u001b[0m\u001b[0m\n\u001b[0;32m--> 757\u001b[0;31m         \u001b[0msuper\u001b[0m\u001b[0;34m(\u001b[0m\u001b[0mImage\u001b[0m\u001b[0;34m,\u001b[0m \u001b[0mself\u001b[0m\u001b[0;34m)\u001b[0m\u001b[0;34m.\u001b[0m\u001b[0m__init__\u001b[0m\u001b[0;34m(\u001b[0m\u001b[0mdata\u001b[0m\u001b[0;34m=\u001b[0m\u001b[0mdata\u001b[0m\u001b[0;34m,\u001b[0m \u001b[0murl\u001b[0m\u001b[0;34m=\u001b[0m\u001b[0murl\u001b[0m\u001b[0;34m,\u001b[0m \u001b[0mfilename\u001b[0m\u001b[0;34m=\u001b[0m\u001b[0mfilename\u001b[0m\u001b[0;34m)\u001b[0m\u001b[0;34m\u001b[0m\u001b[0m\n\u001b[0m\u001b[1;32m    758\u001b[0m \u001b[0;34m\u001b[0m\u001b[0m\n\u001b[1;32m    759\u001b[0m         \u001b[0;32mif\u001b[0m \u001b[0mretina\u001b[0m\u001b[0;34m:\u001b[0m\u001b[0;34m\u001b[0m\u001b[0m\n",
      "\u001b[0;32m/usr/local/Anaconda3-5.0.0-Linux-x86_64/envs/PUI2016_Python3/lib/python3.5/site-packages/IPython/core/display.py\u001b[0m in \u001b[0;36m__init__\u001b[0;34m(self, data, url, filename)\u001b[0m\n\u001b[1;32m    392\u001b[0m         \u001b[0mself\u001b[0m\u001b[0;34m.\u001b[0m\u001b[0mfilename\u001b[0m \u001b[0;34m=\u001b[0m \u001b[0;32mNone\u001b[0m \u001b[0;32mif\u001b[0m \u001b[0mfilename\u001b[0m \u001b[0;32mis\u001b[0m \u001b[0;32mNone\u001b[0m \u001b[0;32melse\u001b[0m \u001b[0municode_type\u001b[0m\u001b[0;34m(\u001b[0m\u001b[0mfilename\u001b[0m\u001b[0;34m)\u001b[0m\u001b[0;34m\u001b[0m\u001b[0m\n\u001b[1;32m    393\u001b[0m \u001b[0;34m\u001b[0m\u001b[0m\n\u001b[0;32m--> 394\u001b[0;31m         \u001b[0mself\u001b[0m\u001b[0;34m.\u001b[0m\u001b[0mreload\u001b[0m\u001b[0;34m(\u001b[0m\u001b[0;34m)\u001b[0m\u001b[0;34m\u001b[0m\u001b[0m\n\u001b[0m\u001b[1;32m    395\u001b[0m         \u001b[0mself\u001b[0m\u001b[0;34m.\u001b[0m\u001b[0m_check_data\u001b[0m\u001b[0;34m(\u001b[0m\u001b[0;34m)\u001b[0m\u001b[0;34m\u001b[0m\u001b[0m\n\u001b[1;32m    396\u001b[0m \u001b[0;34m\u001b[0m\u001b[0m\n",
      "\u001b[0;32m/usr/local/Anaconda3-5.0.0-Linux-x86_64/envs/PUI2016_Python3/lib/python3.5/site-packages/IPython/core/display.py\u001b[0m in \u001b[0;36mreload\u001b[0;34m(self)\u001b[0m\n\u001b[1;32m    777\u001b[0m         \u001b[0;34m\"\"\"Reload the raw data from file or URL.\"\"\"\u001b[0m\u001b[0;34m\u001b[0m\u001b[0m\n\u001b[1;32m    778\u001b[0m         \u001b[0;32mif\u001b[0m \u001b[0mself\u001b[0m\u001b[0;34m.\u001b[0m\u001b[0membed\u001b[0m\u001b[0;34m:\u001b[0m\u001b[0;34m\u001b[0m\u001b[0m\n\u001b[0;32m--> 779\u001b[0;31m             \u001b[0msuper\u001b[0m\u001b[0;34m(\u001b[0m\u001b[0mImage\u001b[0m\u001b[0;34m,\u001b[0m\u001b[0mself\u001b[0m\u001b[0;34m)\u001b[0m\u001b[0;34m.\u001b[0m\u001b[0mreload\u001b[0m\u001b[0;34m(\u001b[0m\u001b[0;34m)\u001b[0m\u001b[0;34m\u001b[0m\u001b[0m\n\u001b[0m\u001b[1;32m    780\u001b[0m             \u001b[0;32mif\u001b[0m \u001b[0mself\u001b[0m\u001b[0;34m.\u001b[0m\u001b[0mretina\u001b[0m\u001b[0;34m:\u001b[0m\u001b[0;34m\u001b[0m\u001b[0m\n\u001b[1;32m    781\u001b[0m                 \u001b[0mself\u001b[0m\u001b[0;34m.\u001b[0m\u001b[0m_retina_shape\u001b[0m\u001b[0;34m(\u001b[0m\u001b[0;34m)\u001b[0m\u001b[0;34m\u001b[0m\u001b[0m\n",
      "\u001b[0;32m/usr/local/Anaconda3-5.0.0-Linux-x86_64/envs/PUI2016_Python3/lib/python3.5/site-packages/IPython/core/display.py\u001b[0m in \u001b[0;36mreload\u001b[0;34m(self)\u001b[0m\n\u001b[1;32m    410\u001b[0m         \u001b[0;34m\"\"\"Reload the raw data from file or URL.\"\"\"\u001b[0m\u001b[0;34m\u001b[0m\u001b[0m\n\u001b[1;32m    411\u001b[0m         \u001b[0;32mif\u001b[0m \u001b[0mself\u001b[0m\u001b[0;34m.\u001b[0m\u001b[0mfilename\u001b[0m \u001b[0;32mis\u001b[0m \u001b[0;32mnot\u001b[0m \u001b[0;32mNone\u001b[0m\u001b[0;34m:\u001b[0m\u001b[0;34m\u001b[0m\u001b[0m\n\u001b[0;32m--> 412\u001b[0;31m             \u001b[0;32mwith\u001b[0m \u001b[0mopen\u001b[0m\u001b[0;34m(\u001b[0m\u001b[0mself\u001b[0m\u001b[0;34m.\u001b[0m\u001b[0mfilename\u001b[0m\u001b[0;34m,\u001b[0m \u001b[0mself\u001b[0m\u001b[0;34m.\u001b[0m\u001b[0m_read_flags\u001b[0m\u001b[0;34m)\u001b[0m \u001b[0;32mas\u001b[0m \u001b[0mf\u001b[0m\u001b[0;34m:\u001b[0m\u001b[0;34m\u001b[0m\u001b[0m\n\u001b[0m\u001b[1;32m    413\u001b[0m                 \u001b[0mself\u001b[0m\u001b[0;34m.\u001b[0m\u001b[0mdata\u001b[0m \u001b[0;34m=\u001b[0m \u001b[0mf\u001b[0m\u001b[0;34m.\u001b[0m\u001b[0mread\u001b[0m\u001b[0;34m(\u001b[0m\u001b[0;34m)\u001b[0m\u001b[0;34m\u001b[0m\u001b[0m\n\u001b[1;32m    414\u001b[0m         \u001b[0;32melif\u001b[0m \u001b[0mself\u001b[0m\u001b[0;34m.\u001b[0m\u001b[0murl\u001b[0m \u001b[0;32mis\u001b[0m \u001b[0;32mnot\u001b[0m \u001b[0;32mNone\u001b[0m\u001b[0;34m:\u001b[0m\u001b[0;34m\u001b[0m\u001b[0m\n",
      "\u001b[0;31mFileNotFoundError\u001b[0m: [Errno 2] No such file or directory: '../plotsforclasses/ks2sample_table.png'"
     ]
    }
   ],
   "source": [
    "#here is the critical values tablel. Have you chosen your significance level yet?? you should do it first thing!\n",
    "from IPython.display import Image\n",
    "Image(filename=\"../plotsforclasses/ks2sample_table.png\")"
   ]
  },
  {
   "cell_type": "code",
   "execution_count": 57,
   "metadata": {},
   "outputs": [
    {
     "name": "stdout",
     "output_type": "stream",
     "text": [
      "Ks_2sampResult(statistic=0.08666666666666667, pvalue=0.20010716764215619)\n"
     ]
    }
   ],
   "source": [
    "_nM, _nF = 300, 300\n",
    "ks = scipy.stats.ks_2samp(df.ageM.iloc[:_nM], df.ageF.iloc[:_nF])\n",
    "print (ks)"
   ]
  },
  {
   "cell_type": "code",
   "execution_count": 58,
   "metadata": {},
   "outputs": [
    {
     "name": "stderr",
     "output_type": "stream",
     "text": [
      "/usr/local/Anaconda3-5.0.0-Linux-x86_64/envs/PUI2016_Python3/lib/python3.5/site-packages/ipykernel/__main__.py:20: FutureWarning: sort is deprecated, use sort_values(inplace=True) for INPLACE sorting\n"
     ]
    }
   ],
   "source": [
    "## your words here!...\n",
    "## this cell is for you to redo the test with reducted dataset \n",
    "_alpha = 0.05\n",
    "_coeff2 = np.sqrt((_nM + _nF)/(_nM * _nF))\n",
    "_c = 0.18845\n",
    "\n",
    "\n",
    "def k_dist(x, m=10):\n",
    "    _v = 0\n",
    "    for k in range(1, m+1):\n",
    "        _v += np.e ** (\n",
    "            (-1.0 * ((2*k - 1) ** 2) * (np.pi ** 2)) /\n",
    "            (8 * (x ** 2))\n",
    "        )\n",
    "    return (np.sqrt(2 * np.pi) / x) * _v\n",
    "\n",
    "## and tell me what the scipy ks test returned and what it means in terms of NULL HYPOTHESIS\n",
    "df_M_50 = df.ageM[:_nM]\n",
    "df_M_50.rename('male_age', inplace=True)\n",
    "df_M_50.sort(axis=0, ascending=True, inplace=True)\n",
    "df_M_50 = df_M_50.reset_index()\n",
    "df_M_50.drop(labels=['ix'], axis=1, inplace=True)\n"
   ]
  },
  {
   "cell_type": "code",
   "execution_count": 59,
   "metadata": {
    "ExecuteTime": {
     "end_time": "2017-10-05T16:58:45.489436",
     "start_time": "2017-10-05T16:58:45.483526"
    },
    "run_control": {
     "frozen": false,
     "read_only": false
    }
   },
   "outputs": [],
   "source": [
    "ks_dist_orig = df_M_50.apply(k_dist)\n",
    "ks_dist_orig\n",
    "ks_dist_orig.rename(columns={'male_age': 'ks_dist_orig'}, inplace=True)\n",
    "\n",
    "ks_dist_inverse_orig = ks_dist_orig.apply(lambda x: 1-x)\n",
    "ks_dist_inverse_orig.rename(columns={'male_age': 'ks_dist_inverse_orig'}, inplace=True)\n",
    "ks_dist_inverse_orig.head(10)\n",
    "male_age_std = (df_M_50 - df_M_50.mean()) / df_M_50.std()\n",
    "male_age_std.rename(columns={'male_age': 'male_age_std'}, inplace=True)\n",
    "\n",
    "# ks_dist_std = male_age_std.apply(k_dist)\n",
    "# ks_dist_std.rename(columns={'male_age': 'ks-val_std'}, inplace=True)\n",
    "\n",
    "\n",
    "\n",
    "# male_age_norm = df_M_50 / df_M_50.max()\n",
    "# male_age_norm.rename(columns={'male_age': 'male_age_norm'}, inplace=True)\n",
    "\n",
    "# ks_dist_norm = male_age_norm.apply(k_dist)\n",
    "# ks_dist_norm.rename(columns={'male_age': 'ks-val_norm'}, inplace=True)\n",
    "\n"
   ]
  },
  {
   "cell_type": "code",
   "execution_count": 60,
   "metadata": {},
   "outputs": [
    {
     "data": {
      "text/plain": [
       "(0, 1)"
      ]
     },
     "execution_count": 60,
     "metadata": {},
     "output_type": "execute_result"
    },
    {
     "name": "stderr",
     "output_type": "stream",
     "text": [
      "/usr/local/Anaconda3-5.0.0-Linux-x86_64/envs/PUI2016_Python3/lib/python3.5/site-packages/matplotlib/font_manager.py:1316: UserWarning: findfont: Font family ['normal'] not found. Falling back to DejaVu Sans\n",
      "  (prop.get_family(), self.defaultFamily[fontext]))\n"
     ]
    },
    {
     "data": {
      "image/png": "[encoded data removed]",
      "text/plain": [
       "<matplotlib.figure.Figure at 0x7f6ee4d9e828>"
      ]
     },
     "metadata": {},
     "output_type": "display_data"
    }
   ],
   "source": [
    "\"\"\"\n",
    "Observation: For n sufficiently large, the values of Dn,α (two-tailed) \n",
    "(see Kolmogorov-Smirnov Test) are approximately equal to the inverse \n",
    "of the Kolmogorov distribution divided by the square root of n. \n",
    "This holds even for values of α not found in the Kolmogorov-Smirnov Table.  \n",
    "\"\"\"\n",
    "\n",
    "plt.plot(male_age_std, ks_dist_inverse_orig)\n",
    "plt.xlim([-4, 4])\n",
    "plt.ylim([0, 1])"
   ]
  },
  {
   "cell_type": "code",
   "execution_count": null,
   "metadata": {},
   "outputs": [],
   "source": [
    "_df_x = male_age_std.merge(ks_dist_inverse_orig, left_index=True, right_index=True)\n",
    "# get ks_dist_orig value whose male_age_std is closest to 0.16\n",
    "_df_x.ix[(_df_x['male_age_std']-0.16).abs().argsort()[:1]] # 0.443421\n",
    "0.50765795335732711 - 0.443421 "
   ]
  },
  {
   "cell_type": "markdown",
   "metadata": {},
   "source": [
    "my hand calculated result is 0.0642369533573271 off from the calculation using scipy "
   ]
  },
  {
   "cell_type": "markdown",
   "metadata": {
    "run_control": {
     "frozen": false,
     "read_only": false
    }
   },
   "source": [
    "# Now retest using a test for correlation. \n",
    "\n",
    "That will answer a slightly different question though - formulate the NULL appropriately. The tests for correlations (generally) requires the variable to be paired, so that I can tell if x changes does y change similarly. But the datasets are of different size! You will need to reduce them to the same size. You can do that by subsampling of the data: take only 1 ride every of 200, which you can achieve \"slicing and broadcasting\" the array or using one of the python function (built in python numpy.random.choice() functions for example: Docstring:\n",
    "choice(a, size=None, replace=True, p=None)\n",
    "\n",
    "Generates a random sample from a given 1-D array\n",
    "\n",
    "        .. versionadded:: 1.7.0\n",
    "\n",
    "Parameters\n",
    "...\n",
    "\n",
    "But make sure you understand how to use it! there is an option \"replace\" which you should think about."
   ]
  },
  {
   "cell_type": "markdown",
   "metadata": {
    "run_control": {
     "frozen": false,
     "read_only": false
    }
   },
   "source": [
    "# Pearson's  test for correlation\n",
    "\n",
    "** notice that the Pearson's is a pairwise test: the samples need to be **\n",
    " a. the same size\n",
    " b. sorted! (how??)\n",
    "    \n",
    "http://docs.scipy.org/doc/scipy/reference/generated/scipy.stats.pearsonr.html#scipy.stats.pearsonr\n",
    "\n"
   ]
  },
  {
   "cell_type": "code",
   "execution_count": null,
   "metadata": {
    "ExecuteTime": {
     "end_time": "2017-10-05T17:05:04.485128",
     "start_time": "2017-10-05T17:05:04.480928"
    },
    "run_control": {
     "frozen": false,
     "read_only": false
    }
   },
   "outputs": [],
   "source": [
    "# your code here!\n",
    "# wrangle the data as needed\n",
    "# please perform the Pearson's test \n",
    "# and tell me what you find in terms of NULL hypothesis\n",
    "\n",
    "# get means\n",
    "# male_mean, female_mean = df.ageM.mean(), df.ageF.mean()\n",
    "\n",
    "bins = np.arange(10, 99, 1)\n",
    "csM=df.ageM.groupby(pd.cut(df.ageM, bins)).agg([np.count_nonzero]).cumsum()\n",
    "csF=df.ageF.groupby(pd.cut(df.ageF, bins)).agg([np.count_nonzero]).cumsum()\n",
    "dat = csM.merge(csF, how='inner', left_index=True, right_index=True)\n",
    "scipy.stats.pearsonr(dat['count_nonzero_x'], dat['count_nonzero_y'])\n"
   ]
  },
  {
   "cell_type": "markdown",
   "metadata": {},
   "source": [
    "#### Returns:\t\n",
    "##### r : float - Pearson’s correlation coefficient\n",
    "##### p-value : float - 2-tailed p-value Calculates a Pearson correlation coefficient and the p-value for testing non-correlation.\n",
    "\n",
    "So Null Hypothesis is \n",
    "$$\n",
    "H_0: \\rho = 0\n",
    "$$\n",
    "$$\n",
    "H_1: \\rho \\ne 0\n",
    "$$\n",
    "where $$\\rho$$ is the correlation\n",
    "We reject Null Hypothesis at 99% Confidence level"
   ]
  },
  {
   "cell_type": "markdown",
   "metadata": {
    "run_control": {
     "frozen": false,
     "read_only": false
    }
   },
   "source": [
    "# Spearman's  test for correlation\n",
    "\n",
    "http://docs.scipy.org/doc/scipy/reference/generated/scipy.stats.spearmanr.html#scipy.stats.spearmanr"
   ]
  },
  {
   "cell_type": "code",
   "execution_count": null,
   "metadata": {
    "ExecuteTime": {
     "end_time": "2017-10-05T17:05:09.530148",
     "start_time": "2017-10-05T17:05:09.525214"
    },
    "run_control": {
     "frozen": false,
     "read_only": false
    }
   },
   "outputs": [],
   "source": [
    "# your code here!\n",
    "# wrangle the data as needed\n",
    "# please perform the Spearman's test and tell me what you find in terms of NULL hypothesis\n",
    "scipy.stats.spearmanr(dat['count_nonzero_x'], dat['count_nonzero_y'])"
   ]
  },
  {
   "cell_type": "markdown",
   "metadata": {
    "run_control": {
     "frozen": false,
     "read_only": false
    }
   },
   "source": [
    "** please comment on the numbers that you get in the light of the scipy manual: what is rerutned? what does it mean??**"
   ]
  },
  {
   "cell_type": "markdown",
   "metadata": {
    "collapsed": true,
    "run_control": {
     "frozen": false,
     "read_only": false
    }
   },
   "source": [
    "\n",
    "#### Returns:\t\n",
    "##### correlation : float or ndarray (2-D square)\n",
    "Spearman correlation matrix or correlation coefficient (if only 2 variables are given as parameters. Correlation matrix is square with length equal to total number of variables (columns or rows) in a and b combined.\n",
    "\n",
    "##### pvalue : float\n",
    "The two-sided p-value for a hypothesis test whose null hypothesis is that two sets of data are uncorrelated, has same dimension as rho.\n",
    "So Null Hypothesis is \n",
    "$$\n",
    "H_0: \\rho = 0\n",
    "$$\n",
    "$$\n",
    "H_1: \\rho \\ne 0\n",
    "$$\n",
    "where $$\\rho$$ is the correlation\n",
    "We reject Null Hypothesis at 99% Confidence level"
   ]
  },
  {
   "cell_type": "markdown",
   "metadata": {},
   "source": [
    "#### from here forward,\n",
    "I will be answering below two questions:\n",
    "\n",
    "1. trip duration of bikers that ride during the day vs night\n",
    "\n",
    "2. age of bikers for trips originating in Manhattan and in Brooklyn (extra credit)\n",
    "\n",
    "Using 3 tests: KS, Pearson's, Spearman's. "
   ]
  },
  {
   "cell_type": "markdown",
   "metadata": {},
   "source": [
    "#### 1) trip duration of bikers that ride during the day vs night\n",
    "##### I will define day as 7~11AM and night as 6~10PM"
   ]
  },
  {
   "cell_type": "code",
   "execution_count": 62,
   "metadata": {},
   "outputs": [],
   "source": [
    "_df_day_vs_night_ = deepcopy(df)"
   ]
  },
  {
   "cell_type": "code",
   "execution_count": 64,
   "metadata": {},
   "outputs": [
    {
     "data": {
      "text/html": [
       "<div>\n",
       "<table border=\"1\" class=\"dataframe\">\n",
       "  <thead>\n",
       "    <tr style=\"text-align: right;\">\n",
       "      <th></th>\n",
       "      <th>tripduration</th>\n",
       "      <th>starttime</th>\n",
       "      <th>stoptime</th>\n",
       "      <th>start station id</th>\n",
       "      <th>start station name</th>\n",
       "      <th>start station latitude</th>\n",
       "      <th>start station longitude</th>\n",
       "      <th>end station id</th>\n",
       "      <th>end station name</th>\n",
       "      <th>end station latitude</th>\n",
       "      <th>end station longitude</th>\n",
       "      <th>bikeid</th>\n",
       "      <th>usertype</th>\n",
       "      <th>birth year</th>\n",
       "      <th>gender</th>\n",
       "      <th>date</th>\n",
       "      <th>ageM</th>\n",
       "      <th>ageF</th>\n",
       "    </tr>\n",
       "    <tr>\n",
       "      <th>ix</th>\n",
       "      <th></th>\n",
       "      <th></th>\n",
       "      <th></th>\n",
       "      <th></th>\n",
       "      <th></th>\n",
       "      <th></th>\n",
       "      <th></th>\n",
       "      <th></th>\n",
       "      <th></th>\n",
       "      <th></th>\n",
       "      <th></th>\n",
       "      <th></th>\n",
       "      <th></th>\n",
       "      <th></th>\n",
       "      <th></th>\n",
       "      <th></th>\n",
       "      <th></th>\n",
       "      <th></th>\n",
       "    </tr>\n",
       "  </thead>\n",
       "  <tbody>\n",
       "    <tr>\n",
       "      <th>0</th>\n",
       "      <td>475</td>\n",
       "      <td>12/1/2015 07:35:36</td>\n",
       "      <td>12/1/2015 07:43:32</td>\n",
       "      <td>72</td>\n",
       "      <td>W 52 St &amp; 11 Ave</td>\n",
       "      <td>40.767272</td>\n",
       "      <td>-73.993929</td>\n",
       "      <td>173</td>\n",
       "      <td>Broadway &amp; W 49 St</td>\n",
       "      <td>40.760647</td>\n",
       "      <td>-73.984427</td>\n",
       "      <td>22780</td>\n",
       "      <td>Subscriber</td>\n",
       "      <td>1983.0</td>\n",
       "      <td>1</td>\n",
       "      <td>2015-12-01 07:35:36</td>\n",
       "      <td>32.0</td>\n",
       "      <td>NaN</td>\n",
       "    </tr>\n",
       "    <tr>\n",
       "      <th>1</th>\n",
       "      <td>684</td>\n",
       "      <td>12/1/2015 07:38:15</td>\n",
       "      <td>12/1/2015 07:49:39</td>\n",
       "      <td>72</td>\n",
       "      <td>W 52 St &amp; 11 Ave</td>\n",
       "      <td>40.767272</td>\n",
       "      <td>-73.993929</td>\n",
       "      <td>520</td>\n",
       "      <td>W 52 St &amp; 5 Ave</td>\n",
       "      <td>40.759923</td>\n",
       "      <td>-73.976485</td>\n",
       "      <td>17787</td>\n",
       "      <td>Subscriber</td>\n",
       "      <td>1975.0</td>\n",
       "      <td>1</td>\n",
       "      <td>2015-12-01 07:38:15</td>\n",
       "      <td>40.0</td>\n",
       "      <td>NaN</td>\n",
       "    </tr>\n",
       "    <tr>\n",
       "      <th>2</th>\n",
       "      <td>1063</td>\n",
       "      <td>12/1/2015 07:44:49</td>\n",
       "      <td>12/1/2015 08:02:33</td>\n",
       "      <td>72</td>\n",
       "      <td>W 52 St &amp; 11 Ave</td>\n",
       "      <td>40.767272</td>\n",
       "      <td>-73.993929</td>\n",
       "      <td>358</td>\n",
       "      <td>Christopher St &amp; Greenwich St</td>\n",
       "      <td>40.732916</td>\n",
       "      <td>-74.007114</td>\n",
       "      <td>18797</td>\n",
       "      <td>Subscriber</td>\n",
       "      <td>1966.0</td>\n",
       "      <td>1</td>\n",
       "      <td>2015-12-01 07:44:49</td>\n",
       "      <td>49.0</td>\n",
       "      <td>NaN</td>\n",
       "    </tr>\n",
       "  </tbody>\n",
       "</table>\n",
       "</div>"
      ],
      "text/plain": [
       "    tripduration           starttime            stoptime  start station id  \\\n",
       "ix                                                                           \n",
       "0            475  12/1/2015 07:35:36  12/1/2015 07:43:32                72   \n",
       "1            684  12/1/2015 07:38:15  12/1/2015 07:49:39                72   \n",
       "2           1063  12/1/2015 07:44:49  12/1/2015 08:02:33                72   \n",
       "\n",
       "   start station name  start station latitude  start station longitude  \\\n",
       "ix                                                                       \n",
       "0    W 52 St & 11 Ave               40.767272               -73.993929   \n",
       "1    W 52 St & 11 Ave               40.767272               -73.993929   \n",
       "2    W 52 St & 11 Ave               40.767272               -73.993929   \n",
       "\n",
       "    end station id               end station name  end station latitude  \\\n",
       "ix                                                                        \n",
       "0              173             Broadway & W 49 St             40.760647   \n",
       "1              520                W 52 St & 5 Ave             40.759923   \n",
       "2              358  Christopher St & Greenwich St             40.732916   \n",
       "\n",
       "    end station longitude  bikeid    usertype  birth year  gender  \\\n",
       "ix                                                                  \n",
       "0              -73.984427   22780  Subscriber      1983.0       1   \n",
       "1              -73.976485   17787  Subscriber      1975.0       1   \n",
       "2              -74.007114   18797  Subscriber      1966.0       1   \n",
       "\n",
       "                  date  ageM  ageF  \n",
       "ix                                  \n",
       "0  2015-12-01 07:35:36  32.0   NaN  \n",
       "1  2015-12-01 07:38:15  40.0   NaN  \n",
       "2  2015-12-01 07:44:49  49.0   NaN  "
      ]
     },
     "execution_count": 64,
     "metadata": {},
     "output_type": "execute_result"
    }
   ],
   "source": [
    "_df_day_vs_night_.head(3)"
   ]
  },
  {
   "cell_type": "code",
   "execution_count": 67,
   "metadata": {},
   "outputs": [],
   "source": [
    "mornings = df['tripduration'][df['date'].apply(lambda dt: 7 <= dt.hour <= 11)]"
   ]
  },
  {
   "cell_type": "code",
   "execution_count": 66,
   "metadata": {},
   "outputs": [],
   "source": [
    "nights = df['tripduration'][df['date'].apply(lambda dt: 18 <= dt.hour <= 22)]"
   ]
  },
  {
   "cell_type": "code",
   "execution_count": 68,
   "metadata": {},
   "outputs": [
    {
     "name": "stdout",
     "output_type": "stream",
     "text": [
      "Ks_2sampResult(statistic=0.040626964209992567, pvalue=0.0)\n"
     ]
    }
   ],
   "source": [
    "# KS test\n",
    "ks = scipy.stats.ks_2samp(mornings, nights)\n",
    "print (ks)"
   ]
  },
  {
   "cell_type": "markdown",
   "metadata": {},
   "source": [
    "#### Return values for scipy.stats.ks_2samp\n",
    "\n",
    "* D : float\n",
    "    * KS statistic of 0.040626964209992567\n",
    "* p-value : float\n",
    "    * two-tailed p-value of 0.0\n",
    "$$\n",
    "H_0:F_{Morning}(tripduration)=F_{Night}(tripduration) \n",
    "$$\n",
    "$$\n",
    "H_1:F_{Morning}(tripduration)\\ne F_{Night}(tripduration) \n",
    "$$\n",
    "#### We reject Null Hypothesis in 90, 95, and 99% significance level"
   ]
  },
  {
   "cell_type": "code",
   "execution_count": 72,
   "metadata": {},
   "outputs": [
    {
     "data": {
      "text/plain": [
       "(0.9892392337528193, 8.7650222826912676e-83)"
      ]
     },
     "execution_count": 72,
     "metadata": {},
     "output_type": "execute_result"
    }
   ],
   "source": [
    "## Pearson \n",
    "bins = np.arange(1, 100, 1)\n",
    "mornings_percentiles = np.percentile(mornings, bins)\n",
    "scipy.stats.pearsonr(np.percentile(mornings, bins), np.percentile(nights, bins))\n"
   ]
  },
  {
   "cell_type": "markdown",
   "metadata": {},
   "source": [
    "#### Returns:\t\n",
    "##### r : float - Pearson’s correlation coefficient: 0.9892392337528193\n",
    "##### p-value : 8.7650222826912676e-83\n",
    "\n",
    "So Null Hypothesis is \n",
    "$$\n",
    "H_0: \\rho = 0\n",
    "$$\n",
    "$$\n",
    "H_1: \\rho \\ne 0\n",
    "$$\n",
    "where $$\\rho$$ is the correlation\n",
    "We reject Null Hypothesis at 99% Confidence level"
   ]
  },
  {
   "cell_type": "code",
   "execution_count": null,
   "metadata": {},
   "outputs": [],
   "source": [
    "### Spearman "
   ]
  },
  {
   "cell_type": "code",
   "execution_count": 76,
   "metadata": {},
   "outputs": [
    {
     "data": {
      "text/plain": [
       "SpearmanrResult(correlation=1.0, pvalue=0.0)"
      ]
     },
     "execution_count": 76,
     "metadata": {},
     "output_type": "execute_result"
    }
   ],
   "source": [
    "scipy.stats.spearmanr(np.percentile(mornings, bins), np.percentile(nights, bins))"
   ]
  },
  {
   "cell_type": "markdown",
   "metadata": {},
   "source": [
    "#### Returns:\n",
    "##### correlation : float or ndarray (2-D square)\n",
    "Spearman correlation matrix or correlation coefficient (if only 2 variables are given as parameters. Correlation matrix is square with length equal to total number of variables (columns or rows) in a and b combined.\n",
    "\n",
    "##### pvalue : float\n",
    "The two-sided p-value for a hypothesis test whose null hypothesis is that two sets of data are uncorrelated, has same dimension as rho.\n",
    "So Null Hypothesis is \n",
    "$$\n",
    "H_0: \\rho = 0\n",
    "$$\n",
    "$$\n",
    "H_1: \\rho \\ne 0\n",
    "$$\n",
    "where $$\\rho$$ is the correlation\n",
    "We reject Null Hypothesis at 99% Confidence level"
   ]
  },
  {
   "cell_type": "markdown",
   "metadata": {},
   "source": [
    "### 2) age of bikers for trips originating in Manhattan and in Brooklyn (extra credit)"
   ]
  },
  {
   "cell_type": "code",
   "execution_count": 84,
   "metadata": {},
   "outputs": [],
   "source": [
    "import geopandas as gp\n",
    "from geopandas import sjoin"
   ]
  },
  {
   "cell_type": "code",
   "execution_count": 87,
   "metadata": {},
   "outputs": [
    {
     "data": {
      "text/html": [
       "<div>\n",
       "<table border=\"1\" class=\"dataframe\">\n",
       "  <thead>\n",
       "    <tr style=\"text-align: right;\">\n",
       "      <th></th>\n",
       "      <th>BoroCode</th>\n",
       "      <th>BoroName</th>\n",
       "      <th>Shape_Leng</th>\n",
       "      <th>Shape_Area</th>\n",
       "      <th>geometry</th>\n",
       "    </tr>\n",
       "  </thead>\n",
       "  <tbody>\n",
       "    <tr>\n",
       "      <th>0</th>\n",
       "      <td>1</td>\n",
       "      <td>Manhattan</td>\n",
       "      <td>361649.881587</td>\n",
       "      <td>6.366006e+08</td>\n",
       "      <td>(POLYGON ((-74.01092841268031 40.6844914725429...</td>\n",
       "    </tr>\n",
       "    <tr>\n",
       "      <th>1</th>\n",
       "      <td>2</td>\n",
       "      <td>Bronx</td>\n",
       "      <td>463464.521828</td>\n",
       "      <td>1.186615e+09</td>\n",
       "      <td>(POLYGON ((-73.89680883223774 40.7958084451597...</td>\n",
       "    </tr>\n",
       "    <tr>\n",
       "      <th>2</th>\n",
       "      <td>5</td>\n",
       "      <td>Staten Island</td>\n",
       "      <td>330432.867999</td>\n",
       "      <td>1.623921e+09</td>\n",
       "      <td>(POLYGON ((-74.05050806403247 40.5664220341608...</td>\n",
       "    </tr>\n",
       "  </tbody>\n",
       "</table>\n",
       "</div>"
      ],
      "text/plain": [
       "   BoroCode       BoroName     Shape_Leng    Shape_Area  \\\n",
       "0         1      Manhattan  361649.881587  6.366006e+08   \n",
       "1         2          Bronx  463464.521828  1.186615e+09   \n",
       "2         5  Staten Island  330432.867999  1.623921e+09   \n",
       "\n",
       "                                            geometry  \n",
       "0  (POLYGON ((-74.01092841268031 40.6844914725429...  \n",
       "1  (POLYGON ((-73.89680883223774 40.7958084451597...  \n",
       "2  (POLYGON ((-74.05050806403247 40.5664220341608...  "
      ]
     },
     "execution_count": 87,
     "metadata": {},
     "output_type": "execute_result"
    }
   ],
   "source": [
    "__SHP_FILE_PATH__ = os.path.join(os.getenv(\"PUIDATA\"), 'nybb_18c', 'nybb.shp')\n",
    "__SHP_DF_RAW__ = gp.read_file(__SHP_FILE_PATH__, crs='esri:102718')\n",
    "__SHP_DF_RAW__ = __SHP_DF_RAW__.to_crs(epsg=4326)\n",
    "__SHP_DF_RAW__.head(3)"
   ]
  },
  {
   "cell_type": "code",
   "execution_count": 91,
   "metadata": {},
   "outputs": [
    {
     "name": "stdout",
     "output_type": "stream",
     "text": [
      "Warning: CRS does not match!\n"
     ]
    },
    {
     "data": {
      "text/html": [
       "<div>\n",
       "<table border=\"1\" class=\"dataframe\">\n",
       "  <thead>\n",
       "    <tr style=\"text-align: right;\">\n",
       "      <th></th>\n",
       "      <th>tripduration</th>\n",
       "      <th>starttime</th>\n",
       "      <th>stoptime</th>\n",
       "      <th>start station id</th>\n",
       "      <th>start station name</th>\n",
       "      <th>start station latitude</th>\n",
       "      <th>start station longitude</th>\n",
       "      <th>end station id</th>\n",
       "      <th>end station name</th>\n",
       "      <th>end station latitude</th>\n",
       "      <th>...</th>\n",
       "      <th>gender</th>\n",
       "      <th>date</th>\n",
       "      <th>ageM</th>\n",
       "      <th>ageF</th>\n",
       "      <th>geometry</th>\n",
       "      <th>index_right</th>\n",
       "      <th>BoroCode</th>\n",
       "      <th>BoroName</th>\n",
       "      <th>Shape_Leng</th>\n",
       "      <th>Shape_Area</th>\n",
       "    </tr>\n",
       "  </thead>\n",
       "  <tbody>\n",
       "    <tr>\n",
       "      <th>747368</th>\n",
       "      <td>1084</td>\n",
       "      <td>12/10/2015 10:46:02</td>\n",
       "      <td>12/10/2015 11:04:07</td>\n",
       "      <td>3151</td>\n",
       "      <td>E 81 St &amp; York Ave</td>\n",
       "      <td>40.772838</td>\n",
       "      <td>-73.949892</td>\n",
       "      <td>3163</td>\n",
       "      <td>Central Park West &amp; W 68 St</td>\n",
       "      <td>40.773407</td>\n",
       "      <td>...</td>\n",
       "      <td>1</td>\n",
       "      <td>2015-12-10 10:46:02</td>\n",
       "      <td>37.0</td>\n",
       "      <td>NaN</td>\n",
       "      <td>POINT (-73.94989233 40.7728384)</td>\n",
       "      <td>0</td>\n",
       "      <td>1</td>\n",
       "      <td>Manhattan</td>\n",
       "      <td>361649.881587</td>\n",
       "      <td>6.366006e+08</td>\n",
       "    </tr>\n",
       "    <tr>\n",
       "      <th>747367</th>\n",
       "      <td>1091</td>\n",
       "      <td>12/10/2015 10:29:49</td>\n",
       "      <td>12/10/2015 10:48:01</td>\n",
       "      <td>3151</td>\n",
       "      <td>E 81 St &amp; York Ave</td>\n",
       "      <td>40.772838</td>\n",
       "      <td>-73.949892</td>\n",
       "      <td>518</td>\n",
       "      <td>E 39 St &amp; 2 Ave</td>\n",
       "      <td>40.747804</td>\n",
       "      <td>...</td>\n",
       "      <td>1</td>\n",
       "      <td>2015-12-10 10:29:49</td>\n",
       "      <td>39.0</td>\n",
       "      <td>NaN</td>\n",
       "      <td>POINT (-73.94989233 40.7728384)</td>\n",
       "      <td>0</td>\n",
       "      <td>1</td>\n",
       "      <td>Manhattan</td>\n",
       "      <td>361649.881587</td>\n",
       "      <td>6.366006e+08</td>\n",
       "    </tr>\n",
       "    <tr>\n",
       "      <th>747366</th>\n",
       "      <td>655</td>\n",
       "      <td>12/10/2015 10:26:05</td>\n",
       "      <td>12/10/2015 10:37:01</td>\n",
       "      <td>3151</td>\n",
       "      <td>E 81 St &amp; York Ave</td>\n",
       "      <td>40.772838</td>\n",
       "      <td>-73.949892</td>\n",
       "      <td>3141</td>\n",
       "      <td>1 Ave &amp; E 68 St</td>\n",
       "      <td>40.765005</td>\n",
       "      <td>...</td>\n",
       "      <td>2</td>\n",
       "      <td>2015-12-10 10:26:05</td>\n",
       "      <td>NaN</td>\n",
       "      <td>35.0</td>\n",
       "      <td>POINT (-73.94989233 40.7728384)</td>\n",
       "      <td>0</td>\n",
       "      <td>1</td>\n",
       "      <td>Manhattan</td>\n",
       "      <td>361649.881587</td>\n",
       "      <td>6.366006e+08</td>\n",
       "    </tr>\n",
       "    <tr>\n",
       "      <th>747365</th>\n",
       "      <td>350</td>\n",
       "      <td>12/10/2015 10:16:13</td>\n",
       "      <td>12/10/2015 10:22:03</td>\n",
       "      <td>3151</td>\n",
       "      <td>E 81 St &amp; York Ave</td>\n",
       "      <td>40.772838</td>\n",
       "      <td>-73.949892</td>\n",
       "      <td>3154</td>\n",
       "      <td>E 77 St &amp; 3 Ave</td>\n",
       "      <td>40.773142</td>\n",
       "      <td>...</td>\n",
       "      <td>1</td>\n",
       "      <td>2015-12-10 10:16:13</td>\n",
       "      <td>56.0</td>\n",
       "      <td>NaN</td>\n",
       "      <td>POINT (-73.94989233 40.7728384)</td>\n",
       "      <td>0</td>\n",
       "      <td>1</td>\n",
       "      <td>Manhattan</td>\n",
       "      <td>361649.881587</td>\n",
       "      <td>6.366006e+08</td>\n",
       "    </tr>\n",
       "    <tr>\n",
       "      <th>747143</th>\n",
       "      <td>269</td>\n",
       "      <td>12/5/2015 20:10:27</td>\n",
       "      <td>12/5/2015 20:14:57</td>\n",
       "      <td>3151</td>\n",
       "      <td>E 81 St &amp; York Ave</td>\n",
       "      <td>40.772838</td>\n",
       "      <td>-73.949892</td>\n",
       "      <td>3147</td>\n",
       "      <td>E 85 St &amp; 3 Ave</td>\n",
       "      <td>40.778012</td>\n",
       "      <td>...</td>\n",
       "      <td>1</td>\n",
       "      <td>2015-12-05 20:10:27</td>\n",
       "      <td>24.0</td>\n",
       "      <td>NaN</td>\n",
       "      <td>POINT (-73.94989233 40.7728384)</td>\n",
       "      <td>0</td>\n",
       "      <td>1</td>\n",
       "      <td>Manhattan</td>\n",
       "      <td>361649.881587</td>\n",
       "      <td>6.366006e+08</td>\n",
       "    </tr>\n",
       "    <tr>\n",
       "      <th>747144</th>\n",
       "      <td>1506</td>\n",
       "      <td>12/5/2015 20:26:45</td>\n",
       "      <td>12/5/2015 20:51:51</td>\n",
       "      <td>3151</td>\n",
       "      <td>E 81 St &amp; York Ave</td>\n",
       "      <td>40.772838</td>\n",
       "      <td>-73.949892</td>\n",
       "      <td>498</td>\n",
       "      <td>Broadway &amp; W 32 St</td>\n",
       "      <td>40.748549</td>\n",
       "      <td>...</td>\n",
       "      <td>1</td>\n",
       "      <td>2015-12-05 20:26:45</td>\n",
       "      <td>40.0</td>\n",
       "      <td>NaN</td>\n",
       "      <td>POINT (-73.94989233 40.7728384)</td>\n",
       "      <td>0</td>\n",
       "      <td>1</td>\n",
       "      <td>Manhattan</td>\n",
       "      <td>361649.881587</td>\n",
       "      <td>6.366006e+08</td>\n",
       "    </tr>\n",
       "    <tr>\n",
       "      <th>746996</th>\n",
       "      <td>963</td>\n",
       "      <td>12/1/2015 09:00:26</td>\n",
       "      <td>12/1/2015 09:16:29</td>\n",
       "      <td>3151</td>\n",
       "      <td>E 81 St &amp; York Ave</td>\n",
       "      <td>40.772838</td>\n",
       "      <td>-73.949892</td>\n",
       "      <td>2017</td>\n",
       "      <td>E 43 St &amp; 2 Ave</td>\n",
       "      <td>40.750224</td>\n",
       "      <td>...</td>\n",
       "      <td>1</td>\n",
       "      <td>2015-12-01 09:00:26</td>\n",
       "      <td>54.0</td>\n",
       "      <td>NaN</td>\n",
       "      <td>POINT (-73.94989233 40.7728384)</td>\n",
       "      <td>0</td>\n",
       "      <td>1</td>\n",
       "      <td>Manhattan</td>\n",
       "      <td>361649.881587</td>\n",
       "      <td>6.366006e+08</td>\n",
       "    </tr>\n",
       "  </tbody>\n",
       "</table>\n",
       "<p>7 rows × 24 columns</p>\n",
       "</div>"
      ],
      "text/plain": [
       "        tripduration            starttime             stoptime  \\\n",
       "747368          1084  12/10/2015 10:46:02  12/10/2015 11:04:07   \n",
       "747367          1091  12/10/2015 10:29:49  12/10/2015 10:48:01   \n",
       "747366           655  12/10/2015 10:26:05  12/10/2015 10:37:01   \n",
       "747365           350  12/10/2015 10:16:13  12/10/2015 10:22:03   \n",
       "747143           269   12/5/2015 20:10:27   12/5/2015 20:14:57   \n",
       "747144          1506   12/5/2015 20:26:45   12/5/2015 20:51:51   \n",
       "746996           963   12/1/2015 09:00:26   12/1/2015 09:16:29   \n",
       "\n",
       "        start station id  start station name  start station latitude  \\\n",
       "747368              3151  E 81 St & York Ave               40.772838   \n",
       "747367              3151  E 81 St & York Ave               40.772838   \n",
       "747366              3151  E 81 St & York Ave               40.772838   \n",
       "747365              3151  E 81 St & York Ave               40.772838   \n",
       "747143              3151  E 81 St & York Ave               40.772838   \n",
       "747144              3151  E 81 St & York Ave               40.772838   \n",
       "746996              3151  E 81 St & York Ave               40.772838   \n",
       "\n",
       "        start station longitude  end station id             end station name  \\\n",
       "747368               -73.949892            3163  Central Park West & W 68 St   \n",
       "747367               -73.949892             518              E 39 St & 2 Ave   \n",
       "747366               -73.949892            3141              1 Ave & E 68 St   \n",
       "747365               -73.949892            3154              E 77 St & 3 Ave   \n",
       "747143               -73.949892            3147              E 85 St & 3 Ave   \n",
       "747144               -73.949892             498           Broadway & W 32 St   \n",
       "746996               -73.949892            2017              E 43 St & 2 Ave   \n",
       "\n",
       "        end station latitude      ...       gender                date  ageM  \\\n",
       "747368             40.773407      ...            1 2015-12-10 10:46:02  37.0   \n",
       "747367             40.747804      ...            1 2015-12-10 10:29:49  39.0   \n",
       "747366             40.765005      ...            2 2015-12-10 10:26:05   NaN   \n",
       "747365             40.773142      ...            1 2015-12-10 10:16:13  56.0   \n",
       "747143             40.778012      ...            1 2015-12-05 20:10:27  24.0   \n",
       "747144             40.748549      ...            1 2015-12-05 20:26:45  40.0   \n",
       "746996             40.750224      ...            1 2015-12-01 09:00:26  54.0   \n",
       "\n",
       "        ageF                         geometry index_right  BoroCode  \\\n",
       "747368   NaN  POINT (-73.94989233 40.7728384)           0         1   \n",
       "747367   NaN  POINT (-73.94989233 40.7728384)           0         1   \n",
       "747366  35.0  POINT (-73.94989233 40.7728384)           0         1   \n",
       "747365   NaN  POINT (-73.94989233 40.7728384)           0         1   \n",
       "747143   NaN  POINT (-73.94989233 40.7728384)           0         1   \n",
       "747144   NaN  POINT (-73.94989233 40.7728384)           0         1   \n",
       "746996   NaN  POINT (-73.94989233 40.7728384)           0         1   \n",
       "\n",
       "         BoroName     Shape_Leng    Shape_Area  \n",
       "747368  Manhattan  361649.881587  6.366006e+08  \n",
       "747367  Manhattan  361649.881587  6.366006e+08  \n",
       "747366  Manhattan  361649.881587  6.366006e+08  \n",
       "747365  Manhattan  361649.881587  6.366006e+08  \n",
       "747143  Manhattan  361649.881587  6.366006e+08  \n",
       "747144  Manhattan  361649.881587  6.366006e+08  \n",
       "746996  Manhattan  361649.881587  6.366006e+08  \n",
       "\n",
       "[7 rows x 24 columns]"
      ]
     },
     "execution_count": 91,
     "metadata": {},
     "output_type": "execute_result"
    }
   ],
   "source": [
    "from geopandas import sjoin\n",
    "from shapely.geometry.point import Point\n",
    "\n",
    "#Generate GeoDataFrame\n",
    "pickup_points = [Point(xy) for xy in zip(df['start station longitude'], df['start station latitude'])]\n",
    "crs = {'init' : 'epsg:4326'}\n",
    "pickup = gp.GeoDataFrame(df, crs=crs, geometry=pickup_points)\n",
    "pickup_to_nbh = sjoin(pickup, __SHP_DF_RAW__, how='inner',op=\"within\")\n",
    "pickup_to_nbh.head(7)"
   ]
  },
  {
   "cell_type": "code",
   "execution_count": 114,
   "metadata": {},
   "outputs": [
    {
     "data": {
      "text/html": [
       "<div>\n",
       "<table border=\"1\" class=\"dataframe\">\n",
       "  <thead>\n",
       "    <tr style=\"text-align: right;\">\n",
       "      <th></th>\n",
       "      <th>tripduration</th>\n",
       "      <th>starttime</th>\n",
       "      <th>stoptime</th>\n",
       "      <th>start station id</th>\n",
       "      <th>start station name</th>\n",
       "      <th>start station latitude</th>\n",
       "      <th>start station longitude</th>\n",
       "      <th>end station id</th>\n",
       "      <th>end station name</th>\n",
       "      <th>end station latitude</th>\n",
       "      <th>...</th>\n",
       "      <th>date</th>\n",
       "      <th>ageM</th>\n",
       "      <th>ageF</th>\n",
       "      <th>geometry</th>\n",
       "      <th>index_right</th>\n",
       "      <th>BoroCode</th>\n",
       "      <th>BoroName</th>\n",
       "      <th>Shape_Leng</th>\n",
       "      <th>Shape_Area</th>\n",
       "      <th>Age</th>\n",
       "    </tr>\n",
       "  </thead>\n",
       "  <tbody>\n",
       "    <tr>\n",
       "      <th>747368</th>\n",
       "      <td>1084</td>\n",
       "      <td>12/10/2015 10:46:02</td>\n",
       "      <td>12/10/2015 11:04:07</td>\n",
       "      <td>3151</td>\n",
       "      <td>E 81 St &amp; York Ave</td>\n",
       "      <td>40.772838</td>\n",
       "      <td>-73.949892</td>\n",
       "      <td>3163</td>\n",
       "      <td>Central Park West &amp; W 68 St</td>\n",
       "      <td>40.773407</td>\n",
       "      <td>...</td>\n",
       "      <td>2015-12-10 10:46:02</td>\n",
       "      <td>37.0</td>\n",
       "      <td>NaN</td>\n",
       "      <td>POINT (-73.94989233 40.7728384)</td>\n",
       "      <td>0</td>\n",
       "      <td>1</td>\n",
       "      <td>Manhattan</td>\n",
       "      <td>361649.881587</td>\n",
       "      <td>6.366006e+08</td>\n",
       "      <td>37.0</td>\n",
       "    </tr>\n",
       "    <tr>\n",
       "      <th>747367</th>\n",
       "      <td>1091</td>\n",
       "      <td>12/10/2015 10:29:49</td>\n",
       "      <td>12/10/2015 10:48:01</td>\n",
       "      <td>3151</td>\n",
       "      <td>E 81 St &amp; York Ave</td>\n",
       "      <td>40.772838</td>\n",
       "      <td>-73.949892</td>\n",
       "      <td>518</td>\n",
       "      <td>E 39 St &amp; 2 Ave</td>\n",
       "      <td>40.747804</td>\n",
       "      <td>...</td>\n",
       "      <td>2015-12-10 10:29:49</td>\n",
       "      <td>39.0</td>\n",
       "      <td>NaN</td>\n",
       "      <td>POINT (-73.94989233 40.7728384)</td>\n",
       "      <td>0</td>\n",
       "      <td>1</td>\n",
       "      <td>Manhattan</td>\n",
       "      <td>361649.881587</td>\n",
       "      <td>6.366006e+08</td>\n",
       "      <td>39.0</td>\n",
       "    </tr>\n",
       "    <tr>\n",
       "      <th>747366</th>\n",
       "      <td>655</td>\n",
       "      <td>12/10/2015 10:26:05</td>\n",
       "      <td>12/10/2015 10:37:01</td>\n",
       "      <td>3151</td>\n",
       "      <td>E 81 St &amp; York Ave</td>\n",
       "      <td>40.772838</td>\n",
       "      <td>-73.949892</td>\n",
       "      <td>3141</td>\n",
       "      <td>1 Ave &amp; E 68 St</td>\n",
       "      <td>40.765005</td>\n",
       "      <td>...</td>\n",
       "      <td>2015-12-10 10:26:05</td>\n",
       "      <td>NaN</td>\n",
       "      <td>35.0</td>\n",
       "      <td>POINT (-73.94989233 40.7728384)</td>\n",
       "      <td>0</td>\n",
       "      <td>1</td>\n",
       "      <td>Manhattan</td>\n",
       "      <td>361649.881587</td>\n",
       "      <td>6.366006e+08</td>\n",
       "      <td>35.0</td>\n",
       "    </tr>\n",
       "  </tbody>\n",
       "</table>\n",
       "<p>3 rows × 25 columns</p>\n",
       "</div>"
      ],
      "text/plain": [
       "        tripduration            starttime             stoptime  \\\n",
       "747368          1084  12/10/2015 10:46:02  12/10/2015 11:04:07   \n",
       "747367          1091  12/10/2015 10:29:49  12/10/2015 10:48:01   \n",
       "747366           655  12/10/2015 10:26:05  12/10/2015 10:37:01   \n",
       "\n",
       "        start station id  start station name  start station latitude  \\\n",
       "747368              3151  E 81 St & York Ave               40.772838   \n",
       "747367              3151  E 81 St & York Ave               40.772838   \n",
       "747366              3151  E 81 St & York Ave               40.772838   \n",
       "\n",
       "        start station longitude  end station id             end station name  \\\n",
       "747368               -73.949892            3163  Central Park West & W 68 St   \n",
       "747367               -73.949892             518              E 39 St & 2 Ave   \n",
       "747366               -73.949892            3141              1 Ave & E 68 St   \n",
       "\n",
       "        end station latitude  ...                 date  ageM  ageF  \\\n",
       "747368             40.773407  ...  2015-12-10 10:46:02  37.0   NaN   \n",
       "747367             40.747804  ...  2015-12-10 10:29:49  39.0   NaN   \n",
       "747366             40.765005  ...  2015-12-10 10:26:05   NaN  35.0   \n",
       "\n",
       "                               geometry  index_right BoroCode   BoroName  \\\n",
       "747368  POINT (-73.94989233 40.7728384)            0        1  Manhattan   \n",
       "747367  POINT (-73.94989233 40.7728384)            0        1  Manhattan   \n",
       "747366  POINT (-73.94989233 40.7728384)            0        1  Manhattan   \n",
       "\n",
       "           Shape_Leng    Shape_Area   Age  \n",
       "747368  361649.881587  6.366006e+08  37.0  \n",
       "747367  361649.881587  6.366006e+08  39.0  \n",
       "747366  361649.881587  6.366006e+08  35.0  \n",
       "\n",
       "[3 rows x 25 columns]"
      ]
     },
     "execution_count": 114,
     "metadata": {},
     "output_type": "execute_result"
    }
   ],
   "source": [
    "pickup_to_nbh['Age'] = pickup_to_nbh.ageM.combine_first(pickup_to_nbh.ageF)\n",
    "pickup_to_nbh.head(3)"
   ]
  },
  {
   "cell_type": "code",
   "execution_count": 115,
   "metadata": {},
   "outputs": [],
   "source": [
    "_mn = pickup_to_nbh[pickup_to_nbh['BoroName'].apply(lambda s: s.startswith('Manhattan'))]['Age']\n",
    "_bk = pickup_to_nbh[pickup_to_nbh['BoroName'].apply(lambda s: s.startswith('Brooklyn'))]['Age']"
   ]
  },
  {
   "cell_type": "code",
   "execution_count": 116,
   "metadata": {},
   "outputs": [
    {
     "name": "stdout",
     "output_type": "stream",
     "text": [
      "Ks_2sampResult(statistic=0.053022176633096496, pvalue=0.0)\n"
     ]
    }
   ],
   "source": [
    "# KS test\n",
    "ks = scipy.stats.ks_2samp(_mn, _bk)\n",
    "print (ks)"
   ]
  },
  {
   "cell_type": "markdown",
   "metadata": {},
   "source": [
    "#### Return values for scipy.stats.ks_2samp\n",
    "\n",
    "* D : float\n",
    "    * KS statistic of 0.053022176633096496\n",
    "* p-value : float\n",
    "    * two-tailed p-value of 0.0\n",
    "$$\n",
    "H_0:F_{Manhattan}(Age)=F_{Brooklyn}(Age) \n",
    "$$\n",
    "$$\n",
    "H_1:F_{Manhattan}(Age)\\ne F_{Brooklyn}(Age) \n",
    "$$\n",
    "#### We reject Null Hypothesis in 90, 95, and 99% significance level"
   ]
  },
  {
   "cell_type": "code",
   "execution_count": 128,
   "metadata": {},
   "outputs": [
    {
     "data": {
      "text/html": [
       "<div>\n",
       "<table border=\"1\" class=\"dataframe\">\n",
       "  <thead>\n",
       "    <tr style=\"text-align: right;\">\n",
       "      <th></th>\n",
       "      <th>count_nonzero_x</th>\n",
       "      <th>count_nonzero_y</th>\n",
       "    </tr>\n",
       "    <tr>\n",
       "      <th>Age</th>\n",
       "      <th></th>\n",
       "      <th></th>\n",
       "    </tr>\n",
       "  </thead>\n",
       "  <tbody>\n",
       "    <tr>\n",
       "      <th>(10, 11]</th>\n",
       "      <td>0.0</td>\n",
       "      <td>0.0</td>\n",
       "    </tr>\n",
       "    <tr>\n",
       "      <th>(11, 12]</th>\n",
       "      <td>0.0</td>\n",
       "      <td>0.0</td>\n",
       "    </tr>\n",
       "    <tr>\n",
       "      <th>(12, 13]</th>\n",
       "      <td>0.0</td>\n",
       "      <td>0.0</td>\n",
       "    </tr>\n",
       "    <tr>\n",
       "      <th>(13, 14]</th>\n",
       "      <td>0.0</td>\n",
       "      <td>0.0</td>\n",
       "    </tr>\n",
       "    <tr>\n",
       "      <th>(14, 15]</th>\n",
       "      <td>0.0</td>\n",
       "      <td>0.0</td>\n",
       "    </tr>\n",
       "    <tr>\n",
       "      <th>(15, 16]</th>\n",
       "      <td>918.0</td>\n",
       "      <td>93.0</td>\n",
       "    </tr>\n",
       "    <tr>\n",
       "      <th>(16, 17]</th>\n",
       "      <td>3602.0</td>\n",
       "      <td>277.0</td>\n",
       "    </tr>\n",
       "    <tr>\n",
       "      <th>(17, 18]</th>\n",
       "      <td>6380.0</td>\n",
       "      <td>672.0</td>\n",
       "    </tr>\n",
       "    <tr>\n",
       "      <th>(18, 19]</th>\n",
       "      <td>11557.0</td>\n",
       "      <td>985.0</td>\n",
       "    </tr>\n",
       "    <tr>\n",
       "      <th>(19, 20]</th>\n",
       "      <td>18555.0</td>\n",
       "      <td>1504.0</td>\n",
       "    </tr>\n",
       "    <tr>\n",
       "      <th>(20, 21]</th>\n",
       "      <td>29300.0</td>\n",
       "      <td>1904.0</td>\n",
       "    </tr>\n",
       "    <tr>\n",
       "      <th>(21, 22]</th>\n",
       "      <td>45072.0</td>\n",
       "      <td>2991.0</td>\n",
       "    </tr>\n",
       "    <tr>\n",
       "      <th>(22, 23]</th>\n",
       "      <td>71905.0</td>\n",
       "      <td>4713.0</td>\n",
       "    </tr>\n",
       "    <tr>\n",
       "      <th>(23, 24]</th>\n",
       "      <td>111601.0</td>\n",
       "      <td>7427.0</td>\n",
       "    </tr>\n",
       "    <tr>\n",
       "      <th>(24, 25]</th>\n",
       "      <td>162386.0</td>\n",
       "      <td>11103.0</td>\n",
       "    </tr>\n",
       "    <tr>\n",
       "      <th>(25, 26]</th>\n",
       "      <td>217588.0</td>\n",
       "      <td>15409.0</td>\n",
       "    </tr>\n",
       "    <tr>\n",
       "      <th>(26, 27]</th>\n",
       "      <td>273936.0</td>\n",
       "      <td>19981.0</td>\n",
       "    </tr>\n",
       "    <tr>\n",
       "      <th>(27, 28]</th>\n",
       "      <td>331723.0</td>\n",
       "      <td>25093.0</td>\n",
       "    </tr>\n",
       "    <tr>\n",
       "      <th>(28, 29]</th>\n",
       "      <td>389053.0</td>\n",
       "      <td>31312.0</td>\n",
       "    </tr>\n",
       "    <tr>\n",
       "      <th>(29, 30]</th>\n",
       "      <td>449719.0</td>\n",
       "      <td>37873.0</td>\n",
       "    </tr>\n",
       "    <tr>\n",
       "      <th>(30, 31]</th>\n",
       "      <td>510039.0</td>\n",
       "      <td>44860.0</td>\n",
       "    </tr>\n",
       "    <tr>\n",
       "      <th>(31, 32]</th>\n",
       "      <td>569253.0</td>\n",
       "      <td>51593.0</td>\n",
       "    </tr>\n",
       "    <tr>\n",
       "      <th>(32, 33]</th>\n",
       "      <td>623756.0</td>\n",
       "      <td>57231.0</td>\n",
       "    </tr>\n",
       "    <tr>\n",
       "      <th>(33, 34]</th>\n",
       "      <td>675804.0</td>\n",
       "      <td>63316.0</td>\n",
       "    </tr>\n",
       "    <tr>\n",
       "      <th>(34, 35]</th>\n",
       "      <td>722797.0</td>\n",
       "      <td>68564.0</td>\n",
       "    </tr>\n",
       "    <tr>\n",
       "      <th>(35, 36]</th>\n",
       "      <td>763912.0</td>\n",
       "      <td>73485.0</td>\n",
       "    </tr>\n",
       "    <tr>\n",
       "      <th>(36, 37]</th>\n",
       "      <td>805362.0</td>\n",
       "      <td>77588.0</td>\n",
       "    </tr>\n",
       "    <tr>\n",
       "      <th>(37, 38]</th>\n",
       "      <td>843747.0</td>\n",
       "      <td>81362.0</td>\n",
       "    </tr>\n",
       "    <tr>\n",
       "      <th>(38, 39]</th>\n",
       "      <td>880653.0</td>\n",
       "      <td>85188.0</td>\n",
       "    </tr>\n",
       "    <tr>\n",
       "      <th>(39, 40]</th>\n",
       "      <td>915698.0</td>\n",
       "      <td>88169.0</td>\n",
       "    </tr>\n",
       "    <tr>\n",
       "      <th>...</th>\n",
       "      <td>...</td>\n",
       "      <td>...</td>\n",
       "    </tr>\n",
       "    <tr>\n",
       "      <th>(68, 69]</th>\n",
       "      <td>1500432.0</td>\n",
       "      <td>124297.0</td>\n",
       "    </tr>\n",
       "    <tr>\n",
       "      <th>(69, 70]</th>\n",
       "      <td>1502088.0</td>\n",
       "      <td>124347.0</td>\n",
       "    </tr>\n",
       "    <tr>\n",
       "      <th>(70, 71]</th>\n",
       "      <td>1503596.0</td>\n",
       "      <td>124415.0</td>\n",
       "    </tr>\n",
       "    <tr>\n",
       "      <th>(71, 72]</th>\n",
       "      <td>1504322.0</td>\n",
       "      <td>124451.0</td>\n",
       "    </tr>\n",
       "    <tr>\n",
       "      <th>(72, 73]</th>\n",
       "      <td>1506065.0</td>\n",
       "      <td>124536.0</td>\n",
       "    </tr>\n",
       "    <tr>\n",
       "      <th>(73, 74]</th>\n",
       "      <td>1507337.0</td>\n",
       "      <td>124600.0</td>\n",
       "    </tr>\n",
       "    <tr>\n",
       "      <th>(74, 75]</th>\n",
       "      <td>1508288.0</td>\n",
       "      <td>124626.0</td>\n",
       "    </tr>\n",
       "    <tr>\n",
       "      <th>(75, 76]</th>\n",
       "      <td>1508594.0</td>\n",
       "      <td>124634.0</td>\n",
       "    </tr>\n",
       "    <tr>\n",
       "      <th>(76, 77]</th>\n",
       "      <td>1509000.0</td>\n",
       "      <td>124641.0</td>\n",
       "    </tr>\n",
       "    <tr>\n",
       "      <th>(77, 78]</th>\n",
       "      <td>1509104.0</td>\n",
       "      <td>124656.0</td>\n",
       "    </tr>\n",
       "    <tr>\n",
       "      <th>(78, 79]</th>\n",
       "      <td>1509253.0</td>\n",
       "      <td>124656.0</td>\n",
       "    </tr>\n",
       "    <tr>\n",
       "      <th>(79, 80]</th>\n",
       "      <td>1509385.0</td>\n",
       "      <td>124657.0</td>\n",
       "    </tr>\n",
       "    <tr>\n",
       "      <th>(80, 81]</th>\n",
       "      <td>1509438.0</td>\n",
       "      <td>124657.0</td>\n",
       "    </tr>\n",
       "    <tr>\n",
       "      <th>(81, 82]</th>\n",
       "      <td>1509438.0</td>\n",
       "      <td>124657.0</td>\n",
       "    </tr>\n",
       "    <tr>\n",
       "      <th>(82, 83]</th>\n",
       "      <td>1509551.0</td>\n",
       "      <td>124657.0</td>\n",
       "    </tr>\n",
       "    <tr>\n",
       "      <th>(83, 84]</th>\n",
       "      <td>1509553.0</td>\n",
       "      <td>124657.0</td>\n",
       "    </tr>\n",
       "    <tr>\n",
       "      <th>(84, 85]</th>\n",
       "      <td>1509581.0</td>\n",
       "      <td>124657.0</td>\n",
       "    </tr>\n",
       "    <tr>\n",
       "      <th>(85, 86]</th>\n",
       "      <td>1509581.0</td>\n",
       "      <td>124657.0</td>\n",
       "    </tr>\n",
       "    <tr>\n",
       "      <th>(86, 87]</th>\n",
       "      <td>1509581.0</td>\n",
       "      <td>124657.0</td>\n",
       "    </tr>\n",
       "    <tr>\n",
       "      <th>(87, 88]</th>\n",
       "      <td>1509586.0</td>\n",
       "      <td>124657.0</td>\n",
       "    </tr>\n",
       "    <tr>\n",
       "      <th>(88, 89]</th>\n",
       "      <td>1509601.0</td>\n",
       "      <td>124657.0</td>\n",
       "    </tr>\n",
       "    <tr>\n",
       "      <th>(89, 90]</th>\n",
       "      <td>1509602.0</td>\n",
       "      <td>124657.0</td>\n",
       "    </tr>\n",
       "    <tr>\n",
       "      <th>(90, 91]</th>\n",
       "      <td>1509602.0</td>\n",
       "      <td>124657.0</td>\n",
       "    </tr>\n",
       "    <tr>\n",
       "      <th>(91, 92]</th>\n",
       "      <td>1509602.0</td>\n",
       "      <td>124657.0</td>\n",
       "    </tr>\n",
       "    <tr>\n",
       "      <th>(92, 93]</th>\n",
       "      <td>1509602.0</td>\n",
       "      <td>124657.0</td>\n",
       "    </tr>\n",
       "    <tr>\n",
       "      <th>(93, 94]</th>\n",
       "      <td>1509605.0</td>\n",
       "      <td>124657.0</td>\n",
       "    </tr>\n",
       "    <tr>\n",
       "      <th>(94, 95]</th>\n",
       "      <td>1509605.0</td>\n",
       "      <td>124657.0</td>\n",
       "    </tr>\n",
       "    <tr>\n",
       "      <th>(95, 96]</th>\n",
       "      <td>1509605.0</td>\n",
       "      <td>124657.0</td>\n",
       "    </tr>\n",
       "    <tr>\n",
       "      <th>(96, 97]</th>\n",
       "      <td>1509613.0</td>\n",
       "      <td>124657.0</td>\n",
       "    </tr>\n",
       "    <tr>\n",
       "      <th>(97, 98]</th>\n",
       "      <td>1509615.0</td>\n",
       "      <td>124657.0</td>\n",
       "    </tr>\n",
       "  </tbody>\n",
       "</table>\n",
       "<p>88 rows × 2 columns</p>\n",
       "</div>"
      ],
      "text/plain": [
       "          count_nonzero_x  count_nonzero_y\n",
       "Age                                       \n",
       "(10, 11]              0.0              0.0\n",
       "(11, 12]              0.0              0.0\n",
       "(12, 13]              0.0              0.0\n",
       "(13, 14]              0.0              0.0\n",
       "(14, 15]              0.0              0.0\n",
       "(15, 16]            918.0             93.0\n",
       "(16, 17]           3602.0            277.0\n",
       "(17, 18]           6380.0            672.0\n",
       "(18, 19]          11557.0            985.0\n",
       "(19, 20]          18555.0           1504.0\n",
       "(20, 21]          29300.0           1904.0\n",
       "(21, 22]          45072.0           2991.0\n",
       "(22, 23]          71905.0           4713.0\n",
       "(23, 24]         111601.0           7427.0\n",
       "(24, 25]         162386.0          11103.0\n",
       "(25, 26]         217588.0          15409.0\n",
       "(26, 27]         273936.0          19981.0\n",
       "(27, 28]         331723.0          25093.0\n",
       "(28, 29]         389053.0          31312.0\n",
       "(29, 30]         449719.0          37873.0\n",
       "(30, 31]         510039.0          44860.0\n",
       "(31, 32]         569253.0          51593.0\n",
       "(32, 33]         623756.0          57231.0\n",
       "(33, 34]         675804.0          63316.0\n",
       "(34, 35]         722797.0          68564.0\n",
       "(35, 36]         763912.0          73485.0\n",
       "(36, 37]         805362.0          77588.0\n",
       "(37, 38]         843747.0          81362.0\n",
       "(38, 39]         880653.0          85188.0\n",
       "(39, 40]         915698.0          88169.0\n",
       "...                   ...              ...\n",
       "(68, 69]        1500432.0         124297.0\n",
       "(69, 70]        1502088.0         124347.0\n",
       "(70, 71]        1503596.0         124415.0\n",
       "(71, 72]        1504322.0         124451.0\n",
       "(72, 73]        1506065.0         124536.0\n",
       "(73, 74]        1507337.0         124600.0\n",
       "(74, 75]        1508288.0         124626.0\n",
       "(75, 76]        1508594.0         124634.0\n",
       "(76, 77]        1509000.0         124641.0\n",
       "(77, 78]        1509104.0         124656.0\n",
       "(78, 79]        1509253.0         124656.0\n",
       "(79, 80]        1509385.0         124657.0\n",
       "(80, 81]        1509438.0         124657.0\n",
       "(81, 82]        1509438.0         124657.0\n",
       "(82, 83]        1509551.0         124657.0\n",
       "(83, 84]        1509553.0         124657.0\n",
       "(84, 85]        1509581.0         124657.0\n",
       "(85, 86]        1509581.0         124657.0\n",
       "(86, 87]        1509581.0         124657.0\n",
       "(87, 88]        1509586.0         124657.0\n",
       "(88, 89]        1509601.0         124657.0\n",
       "(89, 90]        1509602.0         124657.0\n",
       "(90, 91]        1509602.0         124657.0\n",
       "(91, 92]        1509602.0         124657.0\n",
       "(92, 93]        1509602.0         124657.0\n",
       "(93, 94]        1509605.0         124657.0\n",
       "(94, 95]        1509605.0         124657.0\n",
       "(95, 96]        1509605.0         124657.0\n",
       "(96, 97]        1509613.0         124657.0\n",
       "(97, 98]        1509615.0         124657.0\n",
       "\n",
       "[88 rows x 2 columns]"
      ]
     },
     "execution_count": 128,
     "metadata": {},
     "output_type": "execute_result"
    }
   ],
   "source": [
    "bins = np.arange(10, 99, 1)\n",
    "csM=_mn.groupby(pd.cut(_mn, bins)).agg([np.count_nonzero]).cumsum()\n",
    "csB=_bk.groupby(pd.cut(_bk, bins)).agg([np.count_nonzero]).cumsum()\n",
    "dat = csM.merge(csB, how='inner', left_index=True, right_index=True, suffixes=['_x', '_y'])\n",
    "dat"
   ]
  },
  {
   "cell_type": "code",
   "execution_count": 129,
   "metadata": {},
   "outputs": [
    {
     "data": {
      "text/plain": [
       "(0.99488578724838506, 2.0397073306605099e-87)"
      ]
     },
     "execution_count": 129,
     "metadata": {},
     "output_type": "execute_result"
    }
   ],
   "source": [
    "scipy.stats.pearsonr(dat['count_nonzero_x'], dat['count_nonzero_y'])"
   ]
  },
  {
   "cell_type": "markdown",
   "metadata": {},
   "source": [
    "#### Returns:\t\n",
    "##### r : float - Pearson’s correlation coefficient\n",
    "##### p-value : float - 2-tailed p-value Calculates a Pearson correlation coefficient and the p-value for testing non-correlation.\n",
    "\n",
    "So Null Hypothesis is \n",
    "$$\n",
    "H_0: \\rho = 0\n",
    "$$\n",
    "$$\n",
    "H_1: \\rho \\ne 0\n",
    "$$\n",
    "where $$\\rho$$ is the correlation\n",
    "We reject Null Hypothesis at 99% Confidence level"
   ]
  },
  {
   "cell_type": "code",
   "execution_count": 131,
   "metadata": {},
   "outputs": [
    {
     "data": {
      "text/plain": [
       "SpearmanrResult(correlation=0.99504608656086502, pvalue=5.2034792655060688e-88)"
      ]
     },
     "execution_count": 131,
     "metadata": {},
     "output_type": "execute_result"
    }
   ],
   "source": [
    "scipy.stats.spearmanr(dat['count_nonzero_x'], dat['count_nonzero_y'])"
   ]
  },
  {
   "cell_type": "markdown",
   "metadata": {},
   "source": [
    "#### Returns:\n",
    "##### correlation : float or ndarray (2-D square)\n",
    "Spearman correlation matrix or correlation coefficient (if only 2 variables are given as parameters. Correlation matrix is square with length equal to total number of variables (columns or rows) in a and b combined.\n",
    "\n",
    "##### pvalue : float\n",
    "The two-sided p-value for a hypothesis test whose null hypothesis is that two sets of data are uncorrelated, has same dimension as rho.\n",
    "So Null Hypothesis is \n",
    "$$\n",
    "H_0: \\rho = 0\n",
    "$$\n",
    "$$\n",
    "H_1: \\rho \\ne 0\n",
    "$$\n",
    "where $$\\rho$$ is the correlation\n",
    "We reject Null Hypothesis at 99% Confidence level"
   ]
  },
  {
   "cell_type": "code",
   "execution_count": null,
   "metadata": {},
   "outputs": [],
   "source": [
    "## End of Notebook"
   ]
  }
 ],
 "metadata": {
  "anaconda-cloud": {},
  "kernelspec": {
   "display_name": "PUI2016_Python3",
   "language": "python",
   "name": "pui2016_python3"
  },
  "language_info": {
   "codemirror_mode": {
    "name": "ipython",
    "version": 3
   },
   "file_extension": ".py",
   "mimetype": "text/x-python",
   "name": "python",
   "nbconvert_exporter": "python",
   "pygments_lexer": "ipython3",
   "version": "3.5.4"
  },
  "latex_envs": {
   "LaTeX_envs_menu_present": true,
   "bibliofile": "biblio.bib",
   "cite_by": "apalike",
   "current_citInitial": 1,
   "eqLabelWithNumbers": true,
   "eqNumInitial": 1,
   "hotkeys": {
    "equation": "Ctrl-E",
    "itemize": "Ctrl-I"
   },
   "labels_anchors": false,
   "latex_user_defs": false,
   "report_style_numbering": false,
   "user_envs_cfg": false
  },
  "toc": {
   "colors": {
    "hover_highlight": "#DAA520",
    "running_highlight": "#FF0000",
    "selected_highlight": "#FFD700"
   },
   "moveMenuLeft": true,
   "nav_menu": {
    "height": "135px",
    "width": "251px"
   },
   "navigate_menu": true,
   "number_sections": true,
   "sideBar": true,
   "threshold": 4,
   "toc_cell": false,
   "toc_section_display": "block",
   "toc_window_display": false
  }
 },
 "nbformat": 4,
 "nbformat_minor": 2
}
