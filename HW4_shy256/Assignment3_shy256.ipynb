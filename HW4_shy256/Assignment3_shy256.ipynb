{
 "cells": [
  {
   "cell_type": "code",
   "execution_count": 108,
   "metadata": {},
   "outputs": [],
   "source": [
    "from __future__ import print_function\n",
    "__author__ = \"Sung Hoon Yang, CUSP NYU 2018\"\n",
    "import numpy as np\n",
    "import pandas as pd\n",
    "import matplotlib\n",
    "font = {'family' : 'normal',\n",
    "        'weight' : 'bold',\n",
    "        'size'   : 88}\n",
    "\n",
    "matplotlib.rc('font', **font)\n",
    "import matplotlib.pyplot as plt\n",
    "import seaborn as sns\n",
    "import os\n",
    "import re\n",
    "%matplotlib inline\n",
    "np.random.seed(999)\n",
    "\n",
    "\"\"\"\n",
    "Set up PUIDATA env var\n",
    "\"\"\"\n",
    "import os\n",
    "os.environ[\"PUIDATA\"] = \"%s/fall18/PUI/PUIDATA\"% os.getenv(\"HOME\")"
   ]
  },
  {
   "cell_type": "markdown",
   "metadata": {},
   "source": [
    "## Assignment 3: Finish z-test lab and turn it in as a notebook .\n",
    "\n",
    "I am looking for here is: seeing a good Null/alternative hypothesis statement and treatment, with a clear Null and Alternative spelled out AND written out as a formula, and a good interpretation of the Z value you obtain in terms of ability or inability to reject the Null Hypothesis. \n",
    "Here is the forumla\n",
    "\n",
    "<img src=\"http://bit.ly/2N3HGT6\" align=\"center\" border=\"0\" alt=\"Z = \\frac{\\mu_{pop} - \\mu_{sample}}{\\sigma / \\sqrt{N}}\" width=\"154\" height=\"44\"/>\n",
    "\n",
    "This is also in the slides attached (in a more readable format).\n",
    "\n",
    "The chapter of _Statistics In a Nutshell_ that covers these topics is called Inferential statistics. \n",
    "It is chapter 3 in the hard copies of the book in the CUSP library, \n",
    "but it was moved to chapter 7 in the online book version which is in the link. Same content more or less.\n",
    "\n",
    "\n",
    "### GRADING: \n",
    "\n",
    "Your notebook must display\n",
    "- the complete formulation of the hypothesis (Null and Alternative) to be tested in words and formula\n",
    "- the download of the data (which is in https://github.com/fedhere/PUI2018_fb55/blob/master/Lab4_fb55/times.txt, but you must get the raw data!)\n",
    "- the calculation of the z statistics (with the given formula and the data processed from the data file)\n",
    "- the comparison of the statistis with the significance threshold and the conclusions about the Null Hypothesis\n",
    "\n"
   ]
  },
  {
   "cell_type": "code",
   "execution_count": 109,
   "metadata": {},
   "outputs": [
    {
     "name": "stdout",
     "output_type": "stream",
     "text": [
      "  % Total    % Received % Xferd  Average Speed   Time    Time     Time  Current\n",
      "                                 Dload  Upload   Total   Spent    Left  Speed\n",
      "100  1179  100  1179    0     0  10497      0 --:--:-- --:--:-- --:--:-- 10526\n"
     ]
    }
   ],
   "source": [
    "!cd /nfshome/shy256/fall18/PUI/PUIDATA; curl -O https://raw.githubusercontent.com/fedhere/PUI2018_fb55/master/Lab4_fb55/times.txt"
   ]
  },
  {
   "cell_type": "code",
   "execution_count": 110,
   "metadata": {},
   "outputs": [
    {
     "data": {
      "text/html": [
       "<div>\n",
       "<table border=\"1\" class=\"dataframe\">\n",
       "  <thead>\n",
       "    <tr style=\"text-align: right;\">\n",
       "      <th></th>\n",
       "      <th>val</th>\n",
       "    </tr>\n",
       "  </thead>\n",
       "  <tbody>\n",
       "    <tr>\n",
       "      <th>0</th>\n",
       "      <td>31.622239</td>\n",
       "    </tr>\n",
       "    <tr>\n",
       "      <th>1</th>\n",
       "      <td>32.821376</td>\n",
       "    </tr>\n",
       "    <tr>\n",
       "      <th>2</th>\n",
       "      <td>30.229101</td>\n",
       "    </tr>\n",
       "    <tr>\n",
       "      <th>3</th>\n",
       "      <td>31.413766</td>\n",
       "    </tr>\n",
       "    <tr>\n",
       "      <th>4</th>\n",
       "      <td>39.010550</td>\n",
       "    </tr>\n",
       "    <tr>\n",
       "      <th>5</th>\n",
       "      <td>34.822079</td>\n",
       "    </tr>\n",
       "    <tr>\n",
       "      <th>6</th>\n",
       "      <td>39.871884</td>\n",
       "    </tr>\n",
       "  </tbody>\n",
       "</table>\n",
       "</div>"
      ],
      "text/plain": [
       "         val\n",
       "0  31.622239\n",
       "1  32.821376\n",
       "2  30.229101\n",
       "3  31.413766\n",
       "4  39.010550\n",
       "5  34.822079\n",
       "6  39.871884"
      ]
     },
     "execution_count": 110,
     "metadata": {},
     "output_type": "execute_result"
    }
   ],
   "source": [
    "df = pd.read_csv(os.path.join(os.getenv('PUIDATA'), 'times.txt'), names=['val'])\n",
    "df.head(7)"
   ]
  },
  {
   "cell_type": "code",
   "execution_count": 111,
   "metadata": {},
   "outputs": [],
   "source": [
    "__POPULATION_MEAN__ = 36\n",
    "__POPULATION_STD__ = 6 "
   ]
  },
  {
   "cell_type": "markdown",
   "metadata": {},
   "source": [
    "#### Hypothesis Testing\n",
    "I design my Hypothesis Testing as such:\n",
    "$$\n",
    "H_0: T_{new} - T_{old} \\ge 0\n",
    "$$\n",
    "$$\n",
    "H_1: T_{new} - T_{old} \\lt 0\n",
    "$$\n",
    "Since our alternative hypothesis captures inequality, the test will be two-tailed. I will perform the testing with \n",
    "$$\n",
    "\\alpha \\in \\{0.1, 0.05, 0.01\\}\n",
    "$$\n",
    "    "
   ]
  },
  {
   "cell_type": "code",
   "execution_count": 112,
   "metadata": {},
   "outputs": [],
   "source": [
    "from math import sqrt\n",
    "_ex, _sd, N = df.mean().val, df.std().val, len(values)\n",
    "df = pd.DataFrame(values, columns=['val'])\n",
    "df['z-stat'] = (df['val'] - __POPULATION_MEAN__) / (__POPULATION_STD__ / sqrt(N))"
   ]
  },
  {
   "cell_type": "code",
   "execution_count": 113,
   "metadata": {},
   "outputs": [
    {
     "name": "stdout",
     "output_type": "stream",
     "text": [
      "z stat for 34.4662: -2.33\n",
      "alpha: 0.10\t| z-score: 1.28\t\n",
      "This is 10% Confidence Interval (C.I.)\n",
      "C.I: (35.16, inf)\n",
      "alpha: 0.05\t| z-score: 1.65\t\n",
      "This is 5% Confidence Interval (C.I.)\n",
      "C.I: (34.92, inf)\n",
      "alpha: 0.01\t| z-score: 1.96\t\n",
      "This is 1% Confidence Interval (C.I.)\n",
      "C.I: (34.71, inf)\n"
     ]
    }
   ],
   "source": [
    "# Calculating Confidence Intervals for one-tailed test.\n",
    "p_vals = {\n",
    "    .1: 1.282,\n",
    "    .05: 1.645,\n",
    "    .01: 1.96\n",
    "}\n",
    "print(\"z stat for %.4f: %.2f\" % (_ex, (_ex - __POPULATION_MEAN__) / (__POPULATION_STD__ / sqrt(N))))\n",
    "for a, p in p_vals.items():\n",
    "    print(\"alpha: %.2f\\t| z-score: %.2f\\t\" % (a, p))\n",
    "    print(\"This is %d%% Confidence Interval (C.I.)\" % (100 * a))\n",
    "    print(\"C.I: (%.2f, inf)\" % (-1.0 * p * __POPULATION_STD__ / sqrt(N) + __POPULATION_MEAN__))\n"
   ]
  },
  {
   "cell_type": "markdown",
   "metadata": {},
   "source": [
    "#### According to Confidence Intervals\n",
    "There is \n",
    "* 10 % chance that population mean is outside (35.16, inf). This does not include 34.2689. Z-stat for 34.2689: -2.63 is also smaller than -1.28. So the test result is statistically significant and we reject Null Hypothesis.\n",
    "* 5 % chance that population mean is outside (34.92, inf). This does not include 34.2689. Z-stat for 34.2689: -2.63 is also smaller than -1.65. So the test result is statistically significant and we reject Null Hypothesis.\n",
    "* 1 % chance that population mean is outside (34.71, inf). This does not include 34.2689. Z-stat for 34.2689: -2.63 is also smaller than -1.96. So the test result is statistically significant and we reject Null Hypothesis.\n",
    "\n"
   ]
  },
  {
   "cell_type": "code",
   "execution_count": 114,
   "metadata": {},
   "outputs": [],
   "source": [
    "## End of Notebook"
   ]
  }
 ],
 "metadata": {
  "kernelspec": {
   "display_name": "PUI2016_Python3",
   "language": "python",
   "name": "pui2016_python3"
  },
  "language_info": {
   "codemirror_mode": {
    "name": "ipython",
    "version": 3
   },
   "file_extension": ".py",
   "mimetype": "text/x-python",
   "name": "python",
   "nbconvert_exporter": "python",
   "pygments_lexer": "ipython3",
   "version": "3.5.4"
  }
 },
 "nbformat": 4,
 "nbformat_minor": 2
}
