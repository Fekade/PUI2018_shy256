{
 "cells": [
  {
   "cell_type": "code",
   "execution_count": 46,
   "metadata": {},
   "outputs": [],
   "source": [
    "from __future__ import print_function\n",
    "__author__ = \"Sung Hoon Yang, CUSP NYU 2018\"\n",
    "import numpy as np\n",
    "import pandas as pd\n",
    "import matplotlib\n",
    "font = {'family' : 'normal',\n",
    "        'weight' : 'bold',\n",
    "        'size'   : 88}\n",
    "\n",
    "matplotlib.rc('font', **font)\n",
    "import matplotlib.pyplot as plt\n",
    "import seaborn as sns\n",
    "import os\n",
    "import re\n",
    "%matplotlib inline\n",
    "np.random.seed(999)\n",
    "\n",
    "\"\"\"\n",
    "Set up PUIDATA env var\n",
    "\"\"\"\n",
    "import os\n",
    "os.environ[\"PUIDATA\"] = \"%s/fall18/PUI/PUIDATA\"% os.getenv(\"HOME\")"
   ]
  },
  {
   "cell_type": "markdown",
   "metadata": {},
   "source": [
    "## Assignment 3: Finish z-test lab and turn it in as a notebook .\n",
    "\n",
    "I am looking for here is: seeing a good Null/alternative hypothesis statement and treatment, with a clear Null and Alternative spelled out AND written out as a formula, and a good interpretation of the Z value you obtain in terms of ability or inability to reject the Null Hypothesis. \n",
    "Here is the forumla\n",
    "\n",
    "<img src=\"http://bit.ly/2N3HGT6\" align=\"center\" border=\"0\" alt=\"Z = \\frac{\\mu_{pop} - \\mu_{sample}}{\\sigma / \\sqrt{N}}\" width=\"154\" height=\"44\"/>\n",
    "\n",
    "This is also in the slides attached (in a more readable format).\n",
    "\n",
    "The chapter of _Statistics In a Nutshell_ that covers these topics is called Inferential statistics. \n",
    "It is chapter 3 in the hard copies of the book in the CUSP library, \n",
    "but it was moved to chapter 7 in the online book version which is in the link. Same content more or less.\n",
    "\n",
    "\n",
    "### GRADING: \n",
    "\n",
    "Your notebook must display\n",
    "- the complete formulation of the hypothesis (Null and Alternative) to be tested in words and formula\n",
    "- the download of the data (which is in https://github.com/fedhere/PUI2018_fb55/blob/master/Lab4_fb55/times.txt, but you must get the raw data!)\n",
    "- the calculation of the z statistics (with the given formula and the data processed from the data file)\n",
    "- the comparison of the statistis with the significance threshold and the conclusions about the Null Hypothesis\n",
    "\n"
   ]
  },
  {
   "cell_type": "code",
   "execution_count": 64,
   "metadata": {},
   "outputs": [
    {
     "name": "stdout",
     "output_type": "stream",
     "text": [
      "  % Total    % Received % Xferd  Average Speed   Time    Time     Time  Current\n",
      "                                 Dload  Upload   Total   Spent    Left  Speed\n",
      "100 61828    0 61828    0     0   247k      0 --:--:-- --:--:-- --:--:--  248k\n"
     ]
    }
   ],
   "source": [
    "!curl https://github.com/fedhere/PUI2018_fb55/blob/master/Lab4_fb55/times.txt | sed 's/<\\/*[^>]*>//g' > /nfshome/shy256/fall18/PUI/PUIDATA/times.txt"
   ]
  },
  {
   "cell_type": "code",
   "execution_count": 65,
   "metadata": {},
   "outputs": [
    {
     "data": {
      "text/plain": [
       "(34.268918561807233, 6.8815039221860799, 83)"
      ]
     },
     "execution_count": 65,
     "metadata": {},
     "output_type": "execute_result"
    }
   ],
   "source": [
    "values = []\n",
    "with open(os.path.join(os.getenv('PUIDATA'), 'times.txt'), 'r') as f:\n",
    "    for l in f.readlines():\n",
    "        val = re.findall(\"[0-9]{2}\\.[0-9]{8}\", l)\n",
    "        try:\n",
    "            val_f = float(val[0])\n",
    "            values.append(val_f)\n",
    "        except:\n",
    "            pass\n",
    "ar = np.asarray(values)\n",
    "ar.mean(), ar.std(), len(ar)"
   ]
  },
  {
   "cell_type": "code",
   "execution_count": 66,
   "metadata": {},
   "outputs": [],
   "source": [
    "__POPULATION_MEAN__ = 36\n",
    "__POPULATION_STD__ = 6 "
   ]
  },
  {
   "cell_type": "markdown",
   "metadata": {},
   "source": [
    "#### Hypothesis Testing\n",
    "I design my Hypothesis Testing as such:\n",
    "$$\n",
    "H_0: \\mu_{pop} = 36\n",
    "$$\n",
    "$$\n",
    "H_1: \\mu_{pop} \\neq 36\n",
    "$$\n",
    "Since our alternative hypothesis captures inequality, the test will be two-tailed. I will perform the testing with \n",
    "$$\n",
    "\\alpha \\in \\{0.1, 0.05, 0.01\\}\n",
    "$$\n",
    "    "
   ]
  },
  {
   "cell_type": "code",
   "execution_count": 37,
   "metadata": {},
   "outputs": [],
   "source": [
    "from math import sqrt\n",
    "_ex, _sd, N = 34.466161688299998, 7.1015040681937762, len(values)\n",
    "df = pd.DataFrame(values, columns=['val'])\n",
    "df['z-stat'] = (df['val'] - _ex) / (_sd / sqrt(N))"
   ]
  },
  {
   "cell_type": "code",
   "execution_count": 38,
   "metadata": {},
   "outputs": [
    {
     "data": {
      "text/plain": [
       "0   -4.004676\n",
       "1   -2.316108\n",
       "2   -5.966427\n",
       "3   -4.298238\n",
       "4    6.399192\n",
       "5    0.501186\n",
       "6    7.612080\n",
       "Name: z-stat, dtype: float64"
      ]
     },
     "execution_count": 38,
     "metadata": {},
     "output_type": "execute_result"
    }
   ],
   "source": [
    "df.loc[:'val', 'z-stat'].head(7)"
   ]
  },
  {
   "cell_type": "code",
   "execution_count": 18,
   "metadata": {},
   "outputs": [
    {
     "name": "stdout",
     "output_type": "stream",
     "text": [
      "z stat for 36: 2.16\n",
      "alpha: 0.10\t| z-score: 1.65\t\n",
      "This is 10% Confidence Interval (C.I.)\n",
      "C.I: (33.30, 35.63)\n",
      "alpha: 0.05\t| z-score: 1.96\t\n",
      "This is 5% Confidence Interval (C.I.)\n",
      "C.I: (33.07, 35.86)\n",
      "alpha: 0.01\t| z-score: 2.33\t\n",
      "This is 1% Confidence Interval (C.I.)\n",
      "C.I: (32.81, 36.12)\n"
     ]
    }
   ],
   "source": [
    "# Confidence Intervals\n",
    "p_vals = {\n",
    "    .1: 1.645,\n",
    "    .05: 1.96,\n",
    "    .01: 2.33\n",
    "}\n",
    "print(\"z stat for 36: %.2f\" % ((36 - _ex) / (_sd / sqrt(N))))\n",
    "for a, p in p_vals.items():\n",
    "    print(\"alpha: %.2f\\t| z-score: %.2f\\t\" % (a, p))\n",
    "    print(\"This is %d%% Confidence Interval (C.I.)\" % (100 * a))\n",
    "    print(\"C.I: (%.2f, %.2f)\" % (-1.0 * p * _sd / sqrt(N) + _ex, 1.0 * p * _sd / sqrt(N) + _ex))\n"
   ]
  },
  {
   "cell_type": "markdown",
   "metadata": {},
   "source": [
    "#### According to Confidence Intervals\n",
    "There is \n",
    "* 10 % chance that population mean is outside (33.30, 35.63). This does not include 36. Z-stat for 36, 2.16 is also greater than 1.65. So the test result is statistically significant and we reject Null Hypothesis.\n",
    "* 5 % chance that population mean is outside (33.07, 35.86). This does not include 36. Z-stat for 36, 2.16 is also greater than 1.96. So the test result is statistically significant and we reject Null Hypothesis.\n",
    "* 1 % chance that population mean is outside (32.81, 36.12). This DOES include 36. Z-stat for 36, 2.16 is also smaller than 2.33. So the test result is statistically insignificant and we DO NOT reject Null Hypothesis.\n",
    "\n"
   ]
  },
  {
   "cell_type": "code",
   "execution_count": null,
   "metadata": {},
   "outputs": [],
   "source": [
    "## End of Notebook"
   ]
  }
 ],
 "metadata": {
  "kernelspec": {
   "display_name": "PUI2016_Python3",
   "language": "python",
   "name": "pui2016_python3"
  },
  "language_info": {
   "codemirror_mode": {
    "name": "ipython",
    "version": 3
   },
   "file_extension": ".py",
   "mimetype": "text/x-python",
   "name": "python",
   "nbconvert_exporter": "python",
   "pygments_lexer": "ipython3",
   "version": "3.5.4"
  }
 },
 "nbformat": 4,
 "nbformat_minor": 2
}
